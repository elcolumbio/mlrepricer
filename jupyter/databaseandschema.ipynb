{
 "cells": [
  {
   "cell_type": "markdown",
   "metadata": {},
   "source": [
    "### We define a table schema which inherits most of the functionality from the database.\n",
    "\n",
    "- auto generation of tables\n",
    "- easy change the database\n",
    "\n",
    "- since SQLite is so forgiving, pandas will check for correct dtypes and fail\n",
    "\n",
    "### Known issues\n",
    "- some prices display wrong in SQLite viewer, after querying they are fine\n",
    "- the datatypes change, i guess that's how SQLite works\n",
    "\n",
    "### Some special things about SQLite\n",
    "All string datatypes in SQLite are converted to a TEXT datatype.  \n",
    "If you try to specify a size for a string datatype, SQLite will ignore it.  \n",
    "So long we have no performance loss we define them for convenience."
   ]
  },
  {
   "cell_type": "code",
   "execution_count": 1,
   "metadata": {},
   "outputs": [],
   "source": [
    "from mlrepricer import schemas, helper\n",
    "from mlrepricer.database import SQLite\n",
    "import pandas as pd"
   ]
  },
  {
   "cell_type": "code",
   "execution_count": 2,
   "metadata": {},
   "outputs": [],
   "source": [
    "tableobject = schemas.pricemonitor(SQLite)()"
   ]
  },
  {
   "cell_type": "markdown",
   "metadata": {},
   "source": [
    "we have useful properties like  \n",
    "we will use some of those below"
   ]
  },
  {
   "cell_type": "code",
   "execution_count": 3,
   "metadata": {},
   "outputs": [
    {
     "name": "stdout",
     "output_type": "stream",
     "text": [
      "['__class__', '__delattr__', '__dict__', '__dir__', '__doc__', '__eq__', '__format__', '__ge__', '__getattribute__', '__gt__', '__hash__', '__init__', '__init_subclass__', '__le__', '__lt__', '__module__', '__ne__', '__new__', '__reduce__', '__reduce_ex__', '__repr__', '__setattr__', '__sizeof__', '__str__', '__subclasshook__', '__weakref__', '_asin', '_booly', '_conn_data', '_datetimey', '_datey', '_floaty', '_inty', '_numericy', '_sellerid', '_textlong', '_textmiddle', '_textshort', '_timey', 'conn', 'createtable', 'dtypes', 'eventdate', 'if_exists', 'mapping', 'nullable', 'table']\n"
     ]
    }
   ],
   "source": [
    "print(dir(tableobject))"
   ]
  },
  {
   "cell_type": "code",
   "execution_count": 4,
   "metadata": {},
   "outputs": [
    {
     "data": {
      "text/plain": [
       "\u001b[0;31mType:\u001b[0m        property\n",
       "\u001b[0;31mString form:\u001b[0m <property object at 0x7ff82e368d68>\n",
       "\u001b[0;31mDocstring:\u001b[0m   Create  empty table if needed, with all columns, autoid, notnull.\n"
      ]
     },
     "metadata": {},
     "output_type": "display_data"
    }
   ],
   "source": [
    "tableobject.createtable?"
   ]
  },
  {
   "cell_type": "code",
   "execution_count": 5,
   "metadata": {},
   "outputs": [
    {
     "data": {
      "text/plain": [
       "\u001b[0;31mType:\u001b[0m        property\n",
       "\u001b[0;31mString form:\u001b[0m <property object at 0x7ff82eb07c78>\n",
       "\u001b[0;31mDocstring:\u001b[0m   Return a connection string you use like pandas.read_sql_table.\n"
      ]
     },
     "metadata": {},
     "output_type": "display_data"
    }
   ],
   "source": [
    "tableobject.conn?"
   ]
  },
  {
   "cell_type": "markdown",
   "metadata": {},
   "source": [
    "### Example how you can push data from a msg pack file into the database"
   ]
  },
  {
   "cell_type": "code",
   "execution_count": 7,
   "metadata": {},
   "outputs": [],
   "source": [
    "df_from_msgpack = helper.load_dataframe('alldata')"
   ]
  },
  {
   "cell_type": "code",
   "execution_count": 8,
   "metadata": {},
   "outputs": [],
   "source": [
    "# If you are not sure the database exists. You can always run this\n",
    "tableobject.createtable"
   ]
  },
  {
   "cell_type": "code",
   "execution_count": 9,
   "metadata": {},
   "outputs": [],
   "source": [
    "df_from_msgpack.to_sql(tableobject.table, tableobject.conn,\n",
    "                  dtype=tableobject.dtypes,\n",
    "                  if_exists='append', index=False)"
   ]
  },
  {
   "cell_type": "code",
   "execution_count": 10,
   "metadata": {},
   "outputs": [],
   "source": [
    "# Now let's query that database\n",
    "df = pd.read_sql_query(\"SELECT * FROM price_monitor\", tableobject.conn, parse_dates=['time_changed'], index_col='ID')"
   ]
  },
  {
   "cell_type": "code",
   "execution_count": 11,
   "metadata": {},
   "outputs": [
    {
     "data": {
      "text/plain": [
       "asin                          object\n",
       "feedback                       int64\n",
       "feedbackpercent                int64\n",
       "instock                        int64\n",
       "isbuyboxwinner                 int64\n",
       "isfeaturedmerchant             int64\n",
       "isprime                        int64\n",
       "price                        float64\n",
       "sellerid                      object\n",
       "shipping_maxhours              int64\n",
       "shipping_minhours              int64\n",
       "time_changed          datetime64[ns]\n",
       "dtype: object"
      ]
     },
     "execution_count": 11,
     "metadata": {},
     "output_type": "execute_result"
    }
   ],
   "source": [
    "df.dtypes"
   ]
  },
  {
   "cell_type": "markdown",
   "metadata": {},
   "source": [
    "### How the schema looks after tableobject.create\n",
    "CREATE TABLE price_monitor (  \n",
    "\t\"ID\" INTEGER NOT NULL,  \n",
    "\tasin NVARCHAR(40) NOT NULL,  \n",
    "\tfeedback INTEGER NOT NULL,  \n",
    "\tfeedbackpercent INTEGER NOT NULL,  \n",
    "\tinstock BOOLEAN NOT NULL,  \n",
    "\tisbuyboxwinner BOOLEAN NOT NULL,  \n",
    "\tisfeaturedmerchant BOOLEAN NOT NULL,  \n",
    "\tisprime BOOLEAN NOT NULL,  \n",
    "\tprice DECIMAL(10, 2) NOT NULL,  \n",
    "\tsellerid NVARCHAR(40) NOT NULL,  \n",
    "\tshipping_maxhours INTEGER NOT NULL,  \n",
    "\tshipping_minhours INTEGER NOT NULL,  \n",
    "\ttime_changed DATETIME NOT NULL,  \n",
    "\tPRIMARY KEY (\"ID\"),  \n",
    "\tCHECK (instock IN (0, 1)),  \n",
    "\tCHECK (isbuyboxwinner IN (0, 1)),  \n",
    "\tCHECK (isfeaturedmerchant IN (0, 1)),  \n",
    "\tCHECK (isprime IN (0, 1))  \n",
    ");"
   ]
  },
  {
   "cell_type": "code",
   "execution_count": null,
   "metadata": {},
   "outputs": [],
   "source": []
  }
 ],
 "metadata": {
  "kernelspec": {
   "display_name": "Python 3",
   "language": "python",
   "name": "python3"
  },
  "language_info": {
   "codemirror_mode": {
    "name": "ipython",
    "version": 3
   },
   "file_extension": ".py",
   "mimetype": "text/x-python",
   "name": "python",
   "nbconvert_exporter": "python",
   "pygments_lexer": "ipython3",
   "version": "3.6.5"
  }
 },
 "nbformat": 4,
 "nbformat_minor": 2
}
