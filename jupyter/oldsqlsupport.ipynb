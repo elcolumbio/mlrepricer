{
 "cells": [
  {
   "cell_type": "markdown",
   "metadata": {},
   "source": [
    "## This is now somewhat outdated since our main support is redis now.\n",
    "Still you can build on those building blocks they are still there.\n",
    "Is not a lot work to make everything work with SQL.\n",
    "Maybe we have moved them."
   ]
  },
  {
   "cell_type": "markdown",
   "metadata": {},
   "source": [
    "### We define a table schema which inherits most of the functionality from the database.\n",
    "\n",
    "- auto generation of tables\n",
    "- easy change the database\n",
    "\n",
    "- since SQLite is so forgiving, pandas will check for correct dtypes and fail\n",
    "\n",
    "### Known issues\n",
    "- some prices display wrong in SQLite viewer, after querying they are fine\n",
    "- the datatypes change, i guess that's how SQLite works\n",
    "\n",
    "### Some special things about SQLite\n",
    "All string datatypes in SQLite are converted to a TEXT datatype.  \n",
    "If you try to specify a size for a string datatype, SQLite will ignore it.  \n",
    "So long we have no performance loss we define them for convenience.\n",
    "\n",
    "good fit because we can have one writer and many readers at the same time"
   ]
  },
  {
   "cell_type": "code",
   "execution_count": null,
   "metadata": {},
   "outputs": [],
   "source": [
    "from mlrepricer import schemas, helper\n",
    "from mlrepricer.database import SQLite\n",
    "import pandas as pd"
   ]
  },
  {
   "cell_type": "markdown",
   "metadata": {},
   "source": [
    "### The best way to work with a table is to instantiate the fitting tableobject."
   ]
  },
  {
   "cell_type": "code",
   "execution_count": null,
   "metadata": {},
   "outputs": [],
   "source": [
    "t = schemas.pricemonitor(SQLite)()  # pricemonitor table specific. SQLite is the destination database\n",
    "# for a different database just change the destination\n",
    "# here you don't have to change anything, you can just use the tableobjects attributes\n",
    "df = pd.read_sql_query(f'SELECT * FROM {t.table}', t.conn, parse_dates=[t.eventdate], index_col='ID')"
   ]
  },
  {
   "cell_type": "markdown",
   "metadata": {},
   "source": [
    "The tableobject:"
   ]
  },
  {
   "cell_type": "code",
   "execution_count": null,
   "metadata": {},
   "outputs": [],
   "source": [
    "tableobject = t\n",
    "print(dir(tableobject))"
   ]
  },
  {
   "cell_type": "code",
   "execution_count": null,
   "metadata": {},
   "outputs": [],
   "source": [
    "tableobject.createtable?"
   ]
  },
  {
   "cell_type": "code",
   "execution_count": null,
   "metadata": {},
   "outputs": [],
   "source": [
    "tableobject.conn?"
   ]
  },
  {
   "cell_type": "markdown",
   "metadata": {},
   "source": [
    "### Example how you can push data from a msg pack file into the database"
   ]
  },
  {
   "cell_type": "code",
   "execution_count": null,
   "metadata": {},
   "outputs": [],
   "source": [
    "df_from_msgpack = helper.load_dataframe('alldata')"
   ]
  },
  {
   "cell_type": "code",
   "execution_count": null,
   "metadata": {},
   "outputs": [],
   "source": [
    "# If you are not sure the database exists. You can always run this\n",
    "tableobject.createtable"
   ]
  },
  {
   "cell_type": "code",
   "execution_count": null,
   "metadata": {},
   "outputs": [],
   "source": [
    "df_from_msgpack.to_sql(tableobject.table, tableobject.conn,\n",
    "                  dtype=tableobject.dtypes,\n",
    "                  if_exists='append', index=False)"
   ]
  },
  {
   "cell_type": "markdown",
   "metadata": {},
   "source": [
    "### How the schema looks after tableobject.create\n",
    "CREATE TABLE price_monitor (  \n",
    "\t\"ID\" INTEGER NOT NULL,  \n",
    "\tasin NVARCHAR(40) NOT NULL,  \n",
    "\tfeedback INTEGER NOT NULL,  \n",
    "\tfeedbackpercent INTEGER NOT NULL,  \n",
    "\tinstock BOOLEAN NOT NULL,  \n",
    "\tisbuyboxwinner BOOLEAN NOT NULL,  \n",
    "\tisfeaturedmerchant BOOLEAN NOT NULL,  \n",
    "\tisprime BOOLEAN NOT NULL,  \n",
    "\tprice DECIMAL(10, 2) NOT NULL,  \n",
    "\tsellerid NVARCHAR(40) NOT NULL,  \n",
    "\tshipping_maxhours INTEGER NOT NULL,  \n",
    "\tshipping_minhours INTEGER NOT NULL,  \n",
    "\ttime_changed DATETIME NOT NULL,  \n",
    "\tPRIMARY KEY (\"ID\"),  \n",
    "\tCHECK (instock IN (0, 1)),  \n",
    "\tCHECK (isbuyboxwinner IN (0, 1)),  \n",
    "\tCHECK (isfeaturedmerchant IN (0, 1)),  \n",
    "\tCHECK (isprime IN (0, 1))  \n",
    ");"
   ]
  },
  {
   "cell_type": "code",
   "execution_count": null,
   "metadata": {},
   "outputs": [],
   "source": []
  }
 ],
 "metadata": {
  "kernelspec": {
   "display_name": "Python 3",
   "language": "python",
   "name": "python3"
  },
  "language_info": {
   "codemirror_mode": {
    "name": "ipython",
    "version": 3
   },
   "file_extension": ".py",
   "mimetype": "text/x-python",
   "name": "python",
   "nbconvert_exporter": "python",
   "pygments_lexer": "ipython3",
   "version": "3.6.5"
  }
 },
 "nbformat": 4,
 "nbformat_minor": 2
}
