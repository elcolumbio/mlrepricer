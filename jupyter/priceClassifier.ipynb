{
 "cells": [
  {
   "cell_type": "code",
   "execution_count": null,
   "metadata": {},
   "outputs": [],
   "source": [
    "from mlrepricer import match, setup, helper\n",
    "import altair as alt\n",
    "import numpy as np\n",
    "import pandas as pd\n",
    "import warnings\n",
    "import datetime as dt\n",
    "alt.data_transformers.enable('default', max_rows=1000000)"
   ]
  },
  {
   "cell_type": "code",
   "execution_count": null,
   "metadata": {},
   "outputs": [],
   "source": [
    "inputdf = helper.load_dataframe('alldata')"
   ]
  },
  {
   "cell_type": "code",
   "execution_count": null,
   "metadata": {},
   "outputs": [],
   "source": [
    "main = inputdf[inputdf.instock==1].reset_index()"
   ]
  },
  {
   "cell_type": "code",
   "execution_count": null,
   "metadata": {},
   "outputs": [],
   "source": [
    "main['time_asin'] = main.time_changed.dt.strftime(date_format=\"%Y-%m-%d %H:%M:%S:%f\") +'_'+ main.asin\n",
    "main = main[['time_asin','price', 'isprime', 'isbuyboxwinner']]"
   ]
  },
  {
   "cell_type": "code",
   "execution_count": null,
   "metadata": {},
   "outputs": [],
   "source": [
    "idx = main.reset_index().groupby(['time_asin'])['isbuyboxwinner'].idxmax()\n",
    "# we need those index values twice\n",
    "# m = lookup['index'].values\n",
    "lookup = main.iloc[idx].set_index('time_asin')\n",
    "assert (lookup['isbuyboxwinner']==1).all\n",
    "lookup.drop('isbuyboxwinner', axis=1, inplace=True)"
   ]
  },
  {
   "cell_type": "code",
   "execution_count": null,
   "metadata": {},
   "outputs": [],
   "source": [
    "removedmax = main.iloc[~idx].set_index('time_asin')"
   ]
  },
  {
   "cell_type": "code",
   "execution_count": null,
   "metadata": {},
   "outputs": [],
   "source": [
    "result = pd.merge(removedmax, lookup, how='left', left_index=True, right_index=True, suffixes=('','_buybox'))"
   ]
  },
  {
   "cell_type": "code",
   "execution_count": null,
   "metadata": {},
   "outputs": [],
   "source": [
    "# we can't and dont want to compare prime and prime. Same forn nonprime and nonprime.\n",
    "filter1 = result[result.isprime!=result.isprime_buybox]"
   ]
  },
  {
   "cell_type": "code",
   "execution_count": null,
   "metadata": {},
   "outputs": [],
   "source": [
    "conditions = [filter1.isprime==1, filter1.isprime_buybox==1]\n",
    "choices = [filter1.price, filter1.price_buybox]\n",
    "\n",
    "filter1['prime_price'] = np.select(conditions, choices, None)\n",
    "\n",
    "conditions = [filter1.isprime==0, filter1.isprime_buybox==0]\n",
    "choices = [filter1.price, filter1.price_buybox]\n",
    "\n",
    "filter1['nonprime_price'] = np.select(conditions, choices, None)"
   ]
  },
  {
   "cell_type": "code",
   "execution_count": null,
   "metadata": {},
   "outputs": [],
   "source": [
    "price = alt.Chart(filter1).mark_point(opacity=0.4).encode(\n",
    "    y=alt.Y('nonprime_price'),\n",
    "    x=alt.X('prime_price', scale=alt.Scale(zero=False)),\n",
    "    color=('isprime_buybox:N')).interactive()\n",
    "x = np.arange(25)\n",
    "# here you should but in your function from the statsmodel\n",
    "data = pd.DataFrame({'nonprime_price': x*0.859-0.5670,\n",
    "                     'prime_price': x})\n",
    "\n",
    "regr = alt.Chart(data).mark_line().encode(\n",
    "    x='prime_price',\n",
    "    y='nonprime_price'\n",
    ")"
   ]
  },
  {
   "cell_type": "code",
   "execution_count": null,
   "metadata": {},
   "outputs": [],
   "source": [
    "price + regr"
   ]
  },
  {
   "cell_type": "code",
   "execution_count": null,
   "metadata": {},
   "outputs": [],
   "source": [
    "filter1[filter1.isbuyboxwinner==1]"
   ]
  },
  {
   "cell_type": "code",
   "execution_count": null,
   "metadata": {},
   "outputs": [],
   "source": []
  }
 ],
 "metadata": {
  "kernelspec": {
   "display_name": "Python 3",
   "language": "python",
   "name": "python3"
  },
  "language_info": {
   "codemirror_mode": {
    "name": "ipython",
    "version": 3
   },
   "file_extension": ".py",
   "mimetype": "text/x-python",
   "name": "python",
   "nbconvert_exporter": "python",
   "pygments_lexer": "ipython3",
   "version": "3.6.5"
  }
 },
 "nbformat": 4,
 "nbformat_minor": 2
}
