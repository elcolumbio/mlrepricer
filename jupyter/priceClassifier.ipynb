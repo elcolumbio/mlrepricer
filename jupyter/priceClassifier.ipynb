{
 "cells": [
  {
   "cell_type": "markdown",
   "metadata": {},
   "source": []
  },
  {
   "cell_type": "code",
   "execution_count": 1,
   "metadata": {},
   "outputs": [
    {
     "data": {
      "text/plain": [
       "DataTransformerRegistry.enable('default')"
      ]
     },
     "execution_count": 1,
     "metadata": {},
     "output_type": "execute_result"
    }
   ],
   "source": [
    "from mlrepricer import match, setup, helper, schemas\n",
    "import altair as alt\n",
    "import numpy as np\n",
    "import pandas as pd\n",
    "import warnings\n",
    "import datetime as dt\n",
    "\n",
    "from mlrepricer.database import SQLite\n",
    "\n",
    "alt.data_transformers.enable('default', max_rows=100000000)"
   ]
  },
  {
   "cell_type": "code",
   "execution_count": 2,
   "metadata": {},
   "outputs": [],
   "source": [
    "t = schemas.pricemonitor(SQLite)()  # tableobject\n",
    "df = pd.read_sql_query(f'SELECT * FROM {t.table}', t.conn, parse_dates=[t.eventdate], index_col='ID')"
   ]
  },
  {
   "cell_type": "code",
   "execution_count": null,
   "metadata": {},
   "outputs": [],
   "source": [
    "main = inputdf[inputdf.instock==1].reset_index()\n",
    "main = main[main.isfeaturedmerchant==1]  # they can't win the buybox\n",
    "main = main[main.shipping_maxhours!=96] # for 5196 samples never won buybox\n",
    "main = main[(main.feedback>20) | (main.isprime==1)]\n",
    "# main = main[main.isbuyboxwinner==1]"
   ]
  },
  {
   "cell_type": "code",
   "execution_count": null,
   "metadata": {},
   "outputs": [],
   "source": [
    "main.describe()"
   ]
  },
  {
   "cell_type": "code",
   "execution_count": null,
   "metadata": {},
   "outputs": [],
   "source": [
    "main.groupby('asin').max().index"
   ]
  },
  {
   "cell_type": "code",
   "execution_count": null,
   "metadata": {},
   "outputs": [],
   "source": [
    "main = main.reset_index().set_index(['asin', 'sellerid'])\n",
    "main = pd.get_dummies(main)\n",
    "main"
   ]
  },
  {
   "cell_type": "code",
   "execution_count": null,
   "metadata": {},
   "outputs": [],
   "source": [
    "main.describe().T"
   ]
  },
  {
   "cell_type": "code",
   "execution_count": null,
   "metadata": {},
   "outputs": [],
   "source": [
    "main['time_asin'] = main.time_changed.dt.strftime(date_format=\"%Y-%m-%d %H:%M:%S:%f\") +'_'+ main.asin\n",
    "main = main[['time_asin','price', 'isprime', 'isbuyboxwinner']]"
   ]
  },
  {
   "cell_type": "code",
   "execution_count": null,
   "metadata": {},
   "outputs": [],
   "source": [
    "idx = main.reset_index().groupby(['time_asin'])['isbuyboxwinner'].idxmax()\n",
    "# we need those index values twice\n",
    "# m = lookup['index'].values\n",
    "lookup = main.iloc[idx].set_index('time_asin')\n",
    "assert (lookup['isbuyboxwinner']==1).all\n",
    "lookup.drop('isbuyboxwinner', axis=1, inplace=True)"
   ]
  },
  {
   "cell_type": "code",
   "execution_count": null,
   "metadata": {},
   "outputs": [],
   "source": [
    "removedmax = main.iloc[~idx].set_index('time_asin')"
   ]
  },
  {
   "cell_type": "code",
   "execution_count": null,
   "metadata": {},
   "outputs": [],
   "source": [
    "result = pd.merge(removedmax, lookup, how='left', left_index=True, right_index=True, suffixes=('','_buybox'))"
   ]
  },
  {
   "cell_type": "code",
   "execution_count": null,
   "metadata": {},
   "outputs": [],
   "source": [
    "# we can't and dont want to compare prime and prime. Same forn nonprime and nonprime.\n",
    "filter1 = result[result.isprime!=result.isprime_buybox]"
   ]
  },
  {
   "cell_type": "code",
   "execution_count": null,
   "metadata": {},
   "outputs": [],
   "source": [
    "conditions = [filter1.isprime==1, filter1.isprime_buybox==1]\n",
    "choices = [filter1.price, filter1.price_buybox]\n",
    "\n",
    "filter1['prime_price'] = np.select(conditions, choices, None)\n",
    "\n",
    "conditions = [filter1.isprime==0, filter1.isprime_buybox==0]\n",
    "choices = [filter1.price, filter1.price_buybox]\n",
    "\n",
    "filter1['nonprime_price'] = np.select(conditions, choices, None)"
   ]
  },
  {
   "cell_type": "code",
   "execution_count": null,
   "metadata": {},
   "outputs": [],
   "source": [
    "price = alt.Chart(filter1).mark_point(opacity=0.4).encode(\n",
    "    y=alt.Y('nonprime_price'),\n",
    "    x=alt.X('prime_price', scale=alt.Scale(zero=False)),\n",
    "    color=('isprime_buybox:N')).interactive()\n",
    "x = np.arange(25)\n",
    "# here you should but in your function from the statsmodel\n",
    "data = pd.DataFrame({'nonprime_price': x*0.859-0.5670,\n",
    "                     'prime_price': x})\n",
    "\n",
    "regr = alt.Chart(data).mark_line().encode(\n",
    "    x='prime_price',\n",
    "    y='nonprime_price'\n",
    ")"
   ]
  },
  {
   "cell_type": "code",
   "execution_count": null,
   "metadata": {},
   "outputs": [],
   "source": [
    "price + regr"
   ]
  },
  {
   "cell_type": "code",
   "execution_count": null,
   "metadata": {},
   "outputs": [],
   "source": [
    "# we have three states for a point, prime wins buybox, nonprime wins buybox, or its a tie\n",
    "# then we have labeled data we can make something like a linear regression with 3 classes\n",
    "# that is called logistic regression and can be solved by Softmax regression\n",
    "conditions = [(filter1.isbuyboxwinner==0) & (filter1.isprime_buybox==1), (filter1.isbuyboxwinner==0) & (filter1.isprime_buybox==0), filter1.isbuyboxwinner==1]\n",
    "choices = [0, 1, 2]\n",
    "filter1['state'] = np.select(conditions, choices, None)"
   ]
  },
  {
   "cell_type": "code",
   "execution_count": null,
   "metadata": {},
   "outputs": [],
   "source": [
    "X = filter1[['nonprime_price', 'prime_price']].values\n",
    "y = filter1['state'].values.astype('int')"
   ]
  },
  {
   "cell_type": "code",
   "execution_count": null,
   "metadata": {},
   "outputs": [],
   "source": [
    "from sklearn.linear_model import LogisticRegression\n",
    "softmax_reg = LogisticRegression(multi_class='multinomial', solver='lbfgs', C=1)\n",
    "softmax_reg.fit(X, y)"
   ]
  },
  {
   "cell_type": "code",
   "execution_count": null,
   "metadata": {},
   "outputs": [],
   "source": [
    "softmax_reg.predict([[5, 8.3]])"
   ]
  },
  {
   "cell_type": "code",
   "execution_count": null,
   "metadata": {},
   "outputs": [],
   "source": [
    "8.3*0.859-0.5670"
   ]
  },
  {
   "cell_type": "code",
   "execution_count": null,
   "metadata": {},
   "outputs": [],
   "source": [
    "from sklearn.svm import SVC"
   ]
  },
  {
   "cell_type": "code",
   "execution_count": null,
   "metadata": {},
   "outputs": [],
   "source": [
    "svm = SVC(kernel='poly', C=10.0, random_state=0)"
   ]
  },
  {
   "cell_type": "code",
   "execution_count": null,
   "metadata": {},
   "outputs": [],
   "source": [
    "svm.fit(X, y)"
   ]
  },
  {
   "cell_type": "code",
   "execution_count": null,
   "metadata": {},
   "outputs": [],
   "source": [
    "m = plot_decision_regions(X, y, classifier=svm)"
   ]
  },
  {
   "cell_type": "code",
   "execution_count": null,
   "metadata": {},
   "outputs": [],
   "source": [
    "resultdf = pd.DataFrame(Z)\n",
    "%matplotlib inline\n",
    "import matplotlib.pyplot as plt\n",
    "plt.figure(1, figsize=(4, 3))\n",
    "plt.pcolormesh(xx, yy, Z, cmap=plt.cm.Paired)"
   ]
  },
  {
   "cell_type": "code",
   "execution_count": null,
   "metadata": {},
   "outputs": [],
   "source": [
    "xx.ravel()"
   ]
  },
  {
   "cell_type": "code",
   "execution_count": null,
   "metadata": {},
   "outputs": [],
   "source": [
    "Z.ravel()"
   ]
  },
  {
   "cell_type": "code",
   "execution_count": null,
   "metadata": {},
   "outputs": [],
   "source": [
    "from matplotlib.colors import ListedColormap\n",
    "\n",
    "\n",
    "def versiontuple(v):\n",
    "    return tuple(map(int, (v.split(\".\"))))\n",
    "\n",
    "def plot_decision_regions(X, y, classifier, test_idx=None, resolution=0.02):\n",
    "\n",
    "    # setup marker generator and color map\n",
    "    markers = ('s', 'x', 'o', '^', 'v')\n",
    "    colors = ('red', 'blue', 'lightgreen', 'gray', 'cyan')\n",
    "    cmap = ListedColormap(colors[:len(np.unique(y))])\n",
    "\n",
    "    # plot the decision surface\n",
    "    x2_min, x2_max = X[:, 0].min() - 1, X[:, 0].max() + 1\n",
    "    x1_min, x1_max = X[:, 1].min() - 1, X[:, 1].max() + 1\n",
    "    xx1, xx2 = np.meshgrid(np.arange(x1_min, x1_max, resolution),\n",
    "                           np.arange(x2_min, x2_max, resolution))\n",
    "    Z = classifier.predict(np.array([xx1.ravel(), xx2.ravel()]).T)\n",
    "    Z = Z.reshape(xx1.shape)\n",
    "    plt.figure(1, figsize=(10, 10))\n",
    "    plt.contourf(xx1, xx2, Z, alpha=0.4, cmap=cmap)\n",
    "    plt.xlim(xx1.min(), xx1.max())\n",
    "    plt.ylim(xx2.min(), xx2.max())\n",
    "\n",
    "    for idx, cl in enumerate(np.unique(y)):\n",
    "        plt.scatter(x=X[y == cl, 0], \n",
    "                    y=X[y == cl, 1],\n",
    "                    alpha=0.6, \n",
    "                    c=cmap(idx),\n",
    "                    edgecolor='black',\n",
    "                    marker=markers[idx], \n",
    "                    label=cl)\n",
    "\n",
    "    # highlight test samples\n",
    "    if test_idx:\n",
    "        # plot all samples\n",
    "        if not versiontuple(np.__version__) >= versiontuple('1.9.0'):\n",
    "            X_test, y_test = X[list(test_idx), :], y[list(test_idx)]\n",
    "            warnings.warn('Please update to NumPy 1.9.0 or newer')\n",
    "        else:\n",
    "            X_test, y_test = X[test_idx, :], y[test_idx]\n",
    "\n",
    "        plt.scatter(X_test[:, 0],\n",
    "                    X_test[:, 1],\n",
    "                    c='',\n",
    "                    alpha=1.0,\n",
    "                    edgecolor='black',\n",
    "                    linewidths=1,\n",
    "                    marker='o',\n",
    "                    s=55, label='test set')"
   ]
  },
  {
   "cell_type": "code",
   "execution_count": null,
   "metadata": {},
   "outputs": [],
   "source": []
  }
 ],
 "metadata": {
  "kernelspec": {
   "display_name": "Python 3",
   "language": "python",
   "name": "python3"
  },
  "language_info": {
   "codemirror_mode": {
    "name": "ipython",
    "version": 3
   },
   "file_extension": ".py",
   "mimetype": "text/x-python",
   "name": "python",
   "nbconvert_exporter": "python",
   "pygments_lexer": "ipython3",
   "version": "3.6.5"
  }
 },
 "nbformat": 4,
 "nbformat_minor": 2
}
