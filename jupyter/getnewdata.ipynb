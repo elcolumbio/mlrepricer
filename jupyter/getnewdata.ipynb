{
 "cells": [
  {
   "cell_type": "code",
   "execution_count": null,
   "metadata": {},
   "outputs": [],
   "source": [
    "from mlrepricer import listener, redisdb, updateprice, minmax, asintosku, helper"
   ]
  },
  {
   "cell_type": "code",
   "execution_count": null,
   "metadata": {},
   "outputs": [],
   "source": [
    "#redisdb.server_start()"
   ]
  },
  {
   "cell_type": "code",
   "execution_count": null,
   "metadata": {},
   "outputs": [],
   "source": [
    "asintosku.AsintoSku().start()"
   ]
  },
  {
   "cell_type": "markdown",
   "metadata": {},
   "source": [
    "# listener demon\n",
    "to get messages from mws queues and dump them into a filesystem"
   ]
  },
  {
   "cell_type": "code",
   "execution_count": null,
   "metadata": {},
   "outputs": [],
   "source": [
    "listener.Listener().start()"
   ]
  },
  {
   "cell_type": "code",
   "execution_count": null,
   "metadata": {},
   "outputs": [],
   "source": [
    "updateprice.Updater().start()"
   ]
  },
  {
   "cell_type": "code",
   "execution_count": null,
   "metadata": {},
   "outputs": [],
   "source": [
    "def get_report(report_name):\n",
    "    \"\"\"Call reports easy.\"\"\"\n",
    "    report_api = mws.apis.Reports(**helper.mwscred)\n",
    "    request_response = report_api.request_report(report_name)\n",
    "    report_id = helper.auto_get_report_id(request_response)\n",
    "    if report_id:\n",
    "        report = report_api.get_report(report_id).parsed\n",
    "    return report\n",
    "\n",
    "def read_filter(report):\n",
    "    i = pd.read_csv(io.StringIO(report), sep='\\t', decimal='.',\n",
    "                    thousands=None, dayfirst=True)\n",
    "    i = i[i.loc[:, 'item-condition'] == 11]\n",
    "    d = i.loc[:, ['seller-sku', 'asin1', 'fulfillment-channel']]\n",
    "    d['county'] = 1\n",
    "    return d.groupby(['asin1', 'fulfillment-channel']).agg(\n",
    "        {'seller-sku': 'first', 'county': 'count'})\n",
    "\n",
    "\n",
    "def deduplicate(listingperasin):\n",
    "    \"\"\"Remove duplicates.\"\"\"\n",
    "    duplicates = listingperasin[listingperasin.loc[:, 'county'] > 1]\n",
    "    if len(duplicates) >= 1:\n",
    "        print(f'you may want to delete one listing per asin {duplicates}')\n",
    "\n",
    "    # those we return\n",
    "    return listingperasin[listingperasin.county == 1].reset_index()\n",
    "\n",
    "\n",
    "def reorganize(nocollusion):\n",
    "    \"\"\"We do some final cleanup and reorganize columns.\"\"\"\n",
    "    # When fulfillment-channel is DEFAULT its seller fulfilled\n",
    "    nocollusion['isprime'] = np.where(\n",
    "        nocollusion['fulfillment-channel'] == 'DEFAULT', 0, 1)\n",
    "    nocollusion.drop(['fulfillment-channel', 'county'], axis=1, inplace=True)\n",
    "    nocollusion.rename(\n",
    "        {'asin1': 'asin', 'seller-sku': 'seller_sku'}, axis=1, inplace=True)\n",
    "    helper.dump_dataframe(nocollusion, 'asintosku')\n"
   ]
  },
  {
   "cell_type": "code",
   "execution_count": null,
   "metadata": {},
   "outputs": [],
   "source": []
  },
  {
   "cell_type": "code",
   "execution_count": null,
   "metadata": {},
   "outputs": [],
   "source": [
    "import io\n",
    "import mws\n",
    "from mws.apis.reports import ReportType\n",
    "import numpy as np\n",
    "import pandas as pd\n",
    "import threading\n",
    "\n",
    "report = get_report(ReportType.ACTIVE_LISTINGS.value)"
   ]
  },
  {
   "cell_type": "code",
   "execution_count": null,
   "metadata": {},
   "outputs": [],
   "source": [
    "# store the report\n",
    "reorganize(deduplicate(read_filter(report)))"
   ]
  },
  {
   "cell_type": "code",
   "execution_count": null,
   "metadata": {},
   "outputs": [],
   "source": [
    "minmax.dump_csv()\n",
    "u = minmax.load_csv()\n",
    "u[u.asin == 'B07H9WFDSR_seller']"
   ]
  },
  {
   "cell_type": "code",
   "execution_count": null,
   "metadata": {},
   "outputs": [],
   "source": [
    "helper.load_dataframe('asintosku').reset_index()"
   ]
  },
  {
   "cell_type": "code",
   "execution_count": null,
   "metadata": {},
   "outputs": [],
   "source": []
  }
 ],
 "metadata": {
  "kernelspec": {
   "display_name": "Python 3",
   "language": "python",
   "name": "python3"
  },
  "language_info": {
   "codemirror_mode": {
    "name": "ipython",
    "version": 3
   },
   "file_extension": ".py",
   "mimetype": "text/x-python",
   "name": "python",
   "nbconvert_exporter": "python",
   "pygments_lexer": "ipython3",
   "version": "3.6.7"
  }
 },
 "nbformat": 4,
 "nbformat_minor": 2
}
