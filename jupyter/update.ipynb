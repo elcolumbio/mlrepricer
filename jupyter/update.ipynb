{
 "cells": [
  {
   "cell_type": "code",
   "execution_count": 11,
   "metadata": {},
   "outputs": [],
   "source": [
    "import mws\n",
    "from ruamel.yaml import YAML\n",
    "import threading\n",
    "import time\n",
    "import redis\n",
    "import xmltodict\n",
    "\n",
    "from mlrepricer import parser, helper, setup, minmax, listener, redisdb\n",
    "\n",
    "yaml = YAML()\n",
    "mwsid = helper.mwscred['account_id']\n",
    "decimal = setup.decimal\n",
    "\n",
    "r = redis.StrictRedis(**helper.rediscred, decode_responses=True)\n",
    "mapping = minmax.load_csv()"
   ]
  },
  {
   "cell_type": "code",
   "execution_count": null,
   "metadata": {},
   "outputs": [],
   "source": [
    "redisdb.server_start()"
   ]
  },
  {
   "cell_type": "code",
   "execution_count": 7,
   "metadata": {},
   "outputs": [
    {
     "data": {
      "text/plain": [
       "'B077XD63L4'"
      ]
     },
     "execution_count": 7,
     "metadata": {},
     "output_type": "execute_result"
    }
   ],
   "source": [
    "m = r.srandmember('updated_asins')\n",
    "m"
   ]
  },
  {
   "cell_type": "code",
   "execution_count": 4,
   "metadata": {},
   "outputs": [],
   "source": [
    "result = []\n",
    "for asin in r.scan_iter():\n",
    "    if asin != 'updated_asins' and len(asin)==10:\n",
    "        for message in r.zscan_iter(asin):\n",
    "            result.append(len(message[0]))\n",
    "    else:\n",
    "        for newasin in r.sscan_iter('updated_asins'):\n",
    "            pass"
   ]
  },
  {
   "cell_type": "code",
   "execution_count": 4,
   "metadata": {},
   "outputs": [
    {
     "data": {
      "text/plain": [
       "3426"
      ]
     },
     "execution_count": 4,
     "metadata": {},
     "output_type": "execute_result"
    }
   ],
   "source": [
    "min(result)"
   ]
  },
  {
   "cell_type": "code",
   "execution_count": 13,
   "metadata": {},
   "outputs": [],
   "source": [
    "#r.keys('*')"
   ]
  },
  {
   "cell_type": "code",
   "execution_count": null,
   "metadata": {},
   "outputs": [],
   "source": [
    "for va in r.scan('updated_asins'):\n",
    "    print(va)"
   ]
  },
  {
   "cell_type": "code",
   "execution_count": null,
   "metadata": {},
   "outputs": [],
   "source": [
    "for asin in r.smembers('updated_asins'):\n",
    "    print(asin)"
   ]
  },
  {
   "cell_type": "code",
   "execution_count": null,
   "metadata": {},
   "outputs": [],
   "source": [
    "for key in r.scan_iter():\n",
    "       print(key)"
   ]
  },
  {
   "cell_type": "code",
   "execution_count": 5,
   "metadata": {},
   "outputs": [],
   "source": [
    "def get_latest_message(asin):\n",
    "    \"\"\"\n",
    "    Leverage the structure of redis zsets, sorted sets with score.\n",
    "\n",
    "    Return the parsed and flattend message.\n",
    "    \"\"\"\n",
    "    m = r.zrevrangebyscore(asin, 'inf', '-inf', start=0, num=1,\n",
    "                           withscores=True)\n",
    "    return parser.main(xmltodict.parse(m[0][0]))\n",
    "\n",
    "\n",
    "def get_buyboxwinner(parsedxml):\n",
    "    \"\"\"\n",
    "    Return one or multiple winner for prime and not prime offers.\n",
    "\n",
    "    If we are not in the buybox.\n",
    "    Format: ([prime_offerobject, ...], [nonprime_offerobject, ...])\n",
    "    \"\"\"\n",
    "    prime_winner, nonprime_winner = [], []\n",
    "    for x in parsedxml:\n",
    "        if (x['sellerid'] == mwsid) & (x['isbuyboxwinner']):\n",
    "            return [], []  # if we are winning, we are happy\n",
    "        elif x['isbuyboxwinner'] & x['isprime']:\n",
    "            prime_winner.append(x)\n",
    "        elif x['isbuyboxwinner'] & ~x['isprime']:\n",
    "            nonprime_winner.append(x)\n",
    "    return prime_winner, nonprime_winner\n",
    "\n",
    "\n",
    "def get_sku(asin):\n",
    "    \"\"\"We assume there is you have max one offer per type.\"\"\"\n",
    "    m = mapping.asin == asin\n",
    "    prime_offer = list(mapping[m & (mapping.isprime)].seller_sku.values)\n",
    "    nonprime_offer = list(mapping[m & ~(mapping.isprime)].seller_sku.values)\n",
    "    return (prime_offer, nonprime_offer)\n",
    "\n",
    "\n",
    "def matchprice(sku, winner):\n",
    "    \"\"\"Primitive repricing rule.\"\"\"\n",
    "    for x, y in zip(sku, winner):\n",
    "        if x and y:  # When the buybox is the same type as our listing\n",
    "            sellersku = x[0]\n",
    "            p = [c['price'] for c in y]\n",
    "            buyboxprice = round(sum(p)/float(len(p)), 2)\n",
    "            return sellersku, buyboxprice\n",
    "\n",
    "\n",
    "def boundaries(sku, buyboxprice):\n",
    "    df = minmax.load_csv()\n",
    "\n",
    "\n",
    "def create_feed(products_to_update):\n",
    "    \"\"\"Process a tsv file for the mws feeds api.\"\"\"\n",
    "    feed_header = 'sku\\tprice\\n'\n",
    "    feed_row_list = []\n",
    "\n",
    "    for product in products_to_update:\n",
    "        if product is not None:\n",
    "            # the feedrow format: sku\\tprice\n",
    "            feed_row = f\"{product[0]}\\t{str(product[1]).replace('.', decimal)}\"\n",
    "            feed_row_list.append(feed_row)\n",
    "\n",
    "    feed_data = feed_header + '\\n'.join(feed_row_list)\n",
    "    print(feed_data)\n",
    "    return feed_data.encode('utf8')\n",
    "\n",
    "\n",
    "def main():\n",
    "    \"\"\"Pop the list of changed asins and take action on them.\"\"\"\n",
    "    starttime = time.time()\n",
    "    while True:\n",
    "        products_to_update = []\n",
    "        for asin in r.smembers('updated_asins'):\n",
    "            print(asin)\n",
    "            # r.srem(asin)  # that should be ok compared to other options\n",
    "            m = get_latest_message(asin)\n",
    "            time_changed = m['time_changed']\n",
    "            winner = get_buyboxwinner(m)\n",
    "            skutuple = get_sku(asin)\n",
    "            sku, buyboxprice = matchprice(skutuple, winner)\n",
    "            products_to_update.append(sku, buyboxprice)\n",
    "            # we store the action in redis\n",
    "            # need to find better structure for easy access TODO\n",
    "            r.sadd(\n",
    "                'actions', yaml.dump([time_changed, asin, sku, buyboxprice]))\n",
    "\n",
    "        feed_data = create_feed(products_to_update)\n",
    "        feeds_api = mws.Feeds(**helper.mwscred)\n",
    "        return feeds_api.submit_feed(\n",
    "            feed_data, '_POST_FLAT_FILE_INVLOADER_DATA_')\n",
    "        # We send maximum every 30 seconds a new feed to the mws api.\n",
    "        time.sleep(30.0 - ((time.time() - starttime) % 30.0))"
   ]
  },
  {
   "cell_type": "code",
   "execution_count": 6,
   "metadata": {},
   "outputs": [
    {
     "name": "stdout",
     "output_type": "stream",
     "text": [
      "B07BH67J3F\n"
     ]
    },
    {
     "ename": "ExpatError",
     "evalue": "syntax error: line 1, column 0",
     "output_type": "error",
     "traceback": [
      "\u001b[1;31m---------------------------------------------------------------------------\u001b[0m",
      "\u001b[1;31mExpatError\u001b[0m                                Traceback (most recent call last)",
      "\u001b[1;32m<ipython-input-6-263240bbee7e>\u001b[0m in \u001b[0;36m<module>\u001b[1;34m\u001b[0m\n\u001b[1;32m----> 1\u001b[1;33m \u001b[0mmain\u001b[0m\u001b[1;33m(\u001b[0m\u001b[1;33m)\u001b[0m\u001b[1;33m\u001b[0m\u001b[1;33m\u001b[0m\u001b[0m\n\u001b[0m",
      "\u001b[1;32m<ipython-input-5-2b0488b3020a>\u001b[0m in \u001b[0;36mmain\u001b[1;34m()\u001b[0m\n\u001b[0;32m     74\u001b[0m             \u001b[0mprint\u001b[0m\u001b[1;33m(\u001b[0m\u001b[0masin\u001b[0m\u001b[1;33m)\u001b[0m\u001b[1;33m\u001b[0m\u001b[1;33m\u001b[0m\u001b[0m\n\u001b[0;32m     75\u001b[0m             \u001b[1;31m# r.srem(asin)  # that should be ok compared to other options\u001b[0m\u001b[1;33m\u001b[0m\u001b[1;33m\u001b[0m\u001b[1;33m\u001b[0m\u001b[0m\n\u001b[1;32m---> 76\u001b[1;33m             \u001b[0mm\u001b[0m \u001b[1;33m=\u001b[0m \u001b[0mget_latest_message\u001b[0m\u001b[1;33m(\u001b[0m\u001b[0masin\u001b[0m\u001b[1;33m)\u001b[0m\u001b[1;33m\u001b[0m\u001b[1;33m\u001b[0m\u001b[0m\n\u001b[0m\u001b[0;32m     77\u001b[0m             \u001b[0mtime_changed\u001b[0m \u001b[1;33m=\u001b[0m \u001b[0mm\u001b[0m\u001b[1;33m[\u001b[0m\u001b[1;34m'time_changed'\u001b[0m\u001b[1;33m]\u001b[0m\u001b[1;33m\u001b[0m\u001b[1;33m\u001b[0m\u001b[0m\n\u001b[0;32m     78\u001b[0m             \u001b[0mwinner\u001b[0m \u001b[1;33m=\u001b[0m \u001b[0mget_buyboxwinner\u001b[0m\u001b[1;33m(\u001b[0m\u001b[0mm\u001b[0m\u001b[1;33m)\u001b[0m\u001b[1;33m\u001b[0m\u001b[1;33m\u001b[0m\u001b[0m\n",
      "\u001b[1;32m<ipython-input-5-2b0488b3020a>\u001b[0m in \u001b[0;36mget_latest_message\u001b[1;34m(asin)\u001b[0m\n\u001b[0;32m      7\u001b[0m     m = r.zrevrangebyscore(asin, 'inf', '-inf', start=0, num=1,\n\u001b[0;32m      8\u001b[0m                            withscores=True)\n\u001b[1;32m----> 9\u001b[1;33m     \u001b[1;32mreturn\u001b[0m \u001b[0mparser\u001b[0m\u001b[1;33m.\u001b[0m\u001b[0mmain\u001b[0m\u001b[1;33m(\u001b[0m\u001b[0mxmltodict\u001b[0m\u001b[1;33m.\u001b[0m\u001b[0mparse\u001b[0m\u001b[1;33m(\u001b[0m\u001b[0mm\u001b[0m\u001b[1;33m[\u001b[0m\u001b[1;36m0\u001b[0m\u001b[1;33m]\u001b[0m\u001b[1;33m[\u001b[0m\u001b[1;36m0\u001b[0m\u001b[1;33m]\u001b[0m\u001b[1;33m)\u001b[0m\u001b[1;33m)\u001b[0m\u001b[1;33m\u001b[0m\u001b[1;33m\u001b[0m\u001b[0m\n\u001b[0m\u001b[0;32m     10\u001b[0m \u001b[1;33m\u001b[0m\u001b[0m\n\u001b[0;32m     11\u001b[0m \u001b[1;33m\u001b[0m\u001b[0m\n",
      "\u001b[1;32m~\\Miniconda3\\lib\\site-packages\\xmltodict.py\u001b[0m in \u001b[0;36mparse\u001b[1;34m(xml_input, encoding, expat, process_namespaces, namespace_separator, disable_entities, **kwargs)\u001b[0m\n\u001b[0;32m    328\u001b[0m         \u001b[0mparser\u001b[0m\u001b[1;33m.\u001b[0m\u001b[0mParseFile\u001b[0m\u001b[1;33m(\u001b[0m\u001b[0mxml_input\u001b[0m\u001b[1;33m)\u001b[0m\u001b[1;33m\u001b[0m\u001b[1;33m\u001b[0m\u001b[0m\n\u001b[0;32m    329\u001b[0m     \u001b[1;32melse\u001b[0m\u001b[1;33m:\u001b[0m\u001b[1;33m\u001b[0m\u001b[1;33m\u001b[0m\u001b[0m\n\u001b[1;32m--> 330\u001b[1;33m         \u001b[0mparser\u001b[0m\u001b[1;33m.\u001b[0m\u001b[0mParse\u001b[0m\u001b[1;33m(\u001b[0m\u001b[0mxml_input\u001b[0m\u001b[1;33m,\u001b[0m \u001b[1;32mTrue\u001b[0m\u001b[1;33m)\u001b[0m\u001b[1;33m\u001b[0m\u001b[1;33m\u001b[0m\u001b[0m\n\u001b[0m\u001b[0;32m    331\u001b[0m     \u001b[1;32mreturn\u001b[0m \u001b[0mhandler\u001b[0m\u001b[1;33m.\u001b[0m\u001b[0mitem\u001b[0m\u001b[1;33m\u001b[0m\u001b[1;33m\u001b[0m\u001b[0m\n\u001b[0;32m    332\u001b[0m \u001b[1;33m\u001b[0m\u001b[0m\n",
      "\u001b[1;31mExpatError\u001b[0m: syntax error: line 1, column 0"
     ]
    }
   ],
   "source": [
    "main()"
   ]
  },
  {
   "cell_type": "code",
   "execution_count": null,
   "metadata": {},
   "outputs": [],
   "source": []
  }
 ],
 "metadata": {
  "kernelspec": {
   "display_name": "Python 3",
   "language": "python",
   "name": "python3"
  },
  "language_info": {
   "codemirror_mode": {
    "name": "ipython",
    "version": 3
   },
   "file_extension": ".py",
   "mimetype": "text/x-python",
   "name": "python",
   "nbconvert_exporter": "python",
   "pygments_lexer": "ipython3",
   "version": "3.6.7"
  }
 },
 "nbformat": 4,
 "nbformat_minor": 2
}
