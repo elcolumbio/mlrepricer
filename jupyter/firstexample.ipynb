{
 "cells": [
  {
   "cell_type": "code",
   "execution_count": 1,
   "metadata": {},
   "outputs": [
    {
     "name": "stdout",
     "output_type": "stream",
     "text": [
      "Created `%t` as an alias for `%timeit`.\n",
      "Created `%%t` as an alias for `%%timeit`.\n"
     ]
    },
    {
     "data": {
      "text/plain": [
       "DataTransformerRegistry.enable('default')"
      ]
     },
     "execution_count": 1,
     "metadata": {},
     "output_type": "execute_result"
    }
   ],
   "source": [
    "import pandas as pd\n",
    "import altair as alt\n",
    "import datetime\n",
    "import sqlite3\n",
    "from mlrepricer import helper, setup\n",
    "from mlrepricer.oldsql import schemas, database\n",
    "%alias_magic t timeit\n",
    "import os\n",
    "\n",
    "alt.data_transformers.enable('default', max_rows=1000000)"
   ]
  },
  {
   "cell_type": "markdown",
   "metadata": {},
   "source": [
    "### load the data"
   ]
  },
  {
   "cell_type": "code",
   "execution_count": 2,
   "metadata": {},
   "outputs": [],
   "source": [
    "t = schemas.pricemonitor(database.SQLite)()  # tableobject\n",
    "df = pd.read_sql_query(f'SELECT * FROM {t.table}', t.conn, parse_dates=[t.eventdate], index_col='ID')"
   ]
  },
  {
   "cell_type": "markdown",
   "metadata": {},
   "source": [
    "### example analysis"
   ]
  },
  {
   "cell_type": "code",
   "execution_count": null,
   "metadata": {},
   "outputs": [],
   "source": [
    "def what():\n",
    "    sub = df[(df.asin=='B01H0GZ2M2') & (df.isbuyboxwinner==1)]\n",
    "    sub.index = sub.time_changed\n",
    "    primesub = sub.loc[sub.isprime==1].copy()\n",
    "    primesub.sort_index(inplace=True)\n",
    "    print(len(primesub))\n",
    "    primesub.loc[primesub.index.duplicated(keep=False)]\n",
    "    len(primesub)"
   ]
  },
  {
   "cell_type": "code",
   "execution_count": null,
   "metadata": {},
   "outputs": [],
   "source": [
    "# a speaking multiindex, a replacement to the messageid found in the sqs queue\n",
    "df['messageid'] = df['asin']+'_'+df['time_changed'].dt.strftime('%Y-%m-%d %H:%M:%S.%f')\n",
    "\n",
    "# latest shit we need at all?\n",
    "latest_df = df.groupby('asin')['time_changed'].max()\n",
    "lookup_snapshot = latest_df.index+'_'+latest_df.dt.strftime('%Y-%m-%d %H:%M:%S.%f')\n",
    "snapshot = df.loc[df['messageid'].isin(lookup_snapshot)]"
   ]
  },
  {
   "cell_type": "code",
   "execution_count": null,
   "metadata": {},
   "outputs": [],
   "source": [
    "# We sort the asins by the number of messearuments we got for the asin\n",
    "sortedgroup = df.groupby(['asin'])['time_changed'].count().sort_values(ascending=False)\n",
    "asins = list(sortedgroup.index)[0:10]\n",
    "asin = [list(sortedgroup.index)[0]]"
   ]
  },
  {
   "cell_type": "code",
   "execution_count": null,
   "metadata": {},
   "outputs": [],
   "source": [
    "asin"
   ]
  },
  {
   "cell_type": "code",
   "execution_count": null,
   "metadata": {},
   "outputs": [],
   "source": [
    "examplelistings = df[df['asin'].isin(asins)]\n",
    "examplelisting = df[df['asin'].isin(asin)]"
   ]
  },
  {
   "cell_type": "code",
   "execution_count": 56,
   "metadata": {},
   "outputs": [
    {
     "data": {
      "text/plain": [
       "16993.0"
      ]
     },
     "execution_count": 56,
     "metadata": {},
     "output_type": "execute_result"
    }
   ],
   "source": [
    "examplelisting.price.max()"
   ]
  },
  {
   "cell_type": "code",
   "execution_count": 47,
   "metadata": {},
   "outputs": [],
   "source": [
    "from altair import *\n",
    "oneasin = alt.Chart(examplelisting).mark_line(opacity=0.9).encode(\n",
    "    alt.X('time_changed'),\n",
    "    y='min(price)',\n",
    "    color='sellerid:N',)"
   ]
  },
  {
   "cell_type": "code",
   "execution_count": null,
   "metadata": {},
   "outputs": [],
   "source": [
    "#a.savechart('chart.svg')"
   ]
  },
  {
   "cell_type": "code",
   "execution_count": null,
   "metadata": {},
   "outputs": [],
   "source": [
    "alt.Chart(examplelistings).mark_line().encode(\n",
    "    x='time_changed:T',\n",
    "    y='min(price)',\n",
    "    color='asin')"
   ]
  },
  {
   "cell_type": "code",
   "execution_count": null,
   "metadata": {},
   "outputs": [],
   "source": [
    "winner = examplelistings[examplelistings['isbuyboxwinner'] == 1]"
   ]
  },
  {
   "cell_type": "code",
   "execution_count": null,
   "metadata": {},
   "outputs": [],
   "source": [
    "alt.Chart(winner).mark_line().encode(\n",
    "    x='time_changed:T',\n",
    "    y='min(price)',\n",
    "    color='asin')"
   ]
  },
  {
   "cell_type": "code",
   "execution_count": null,
   "metadata": {},
   "outputs": [],
   "source": []
  }
 ],
 "metadata": {
  "kernelspec": {
   "display_name": "Python 3",
   "language": "python",
   "name": "python3"
  },
  "language_info": {
   "codemirror_mode": {
    "name": "ipython",
    "version": 3
   },
   "file_extension": ".py",
   "mimetype": "text/x-python",
   "name": "python",
   "nbconvert_exporter": "python",
   "pygments_lexer": "ipython3",
   "version": "3.6.6"
  }
 },
 "nbformat": 4,
 "nbformat_minor": 2
}
