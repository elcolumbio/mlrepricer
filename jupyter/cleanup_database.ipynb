{
 "cells": [
  {
   "cell_type": "markdown",
   "metadata": {},
   "source": [
    "# Data Docs\n",
    "\n",
    "A new way to get started with your data.\n",
    "- overview of features\n",
    "- schemas and validation\n",
    "- copy paste, code to production\n",
    "- interactive\n",
    "- also if you don't know python it should be useable\n",
    "\n",
    "Jupyter Notebooks are great for that."
   ]
  },
  {
   "cell_type": "markdown",
   "metadata": {},
   "source": [
    "### Every Table got a structured Class like which inherits from a Meta Class\n",
    "You should define a metaclass for each Destination.\n",
    "That makes it easy to use the mapping we provide for whatever datastore you use."
   ]
  },
  {
   "cell_type": "code",
   "execution_count": null,
   "metadata": {},
   "outputs": [],
   "source": [
    "from sqlalchemy import types\n",
    "from sqlalchemy import create_engine\n",
    "\n",
    "from mlrepricer import setup\n",
    "\n",
    "class AzureTarget():\n",
    "    \"\"\"\n",
    "    For each data destination like MSSQL define your own ParentClass.\n",
    "    \"\"\"\n",
    "    def __init__(self):\n",
    "        # dtypes\n",
    "        self.textshort = types.NVARCHAR(length=40)\n",
    "        self.textmiddle = types.NVARCHAR(length=400)\n",
    "        self.textlong = types.NVARCHAR(length=4000)  # 4000 is max for nvarchar\n",
    "        self.floaty = types.Float\n",
    "        self.inty = types.INTEGER\n",
    "        self.datey = types.DATE\n",
    "        self.datetimey = types.DATETIME\n",
    "        self.timey = types.TIME\n",
    "        self.booly = types.BINARY\n",
    "        \n",
    "        # connection data, pls change it\n",
    "        self.conn_data = setup.configs['AzureSQL']\n",
    "        \n",
    "    def connection_engine(self):\n",
    "        pymssqltext = 'mssql+pymssql://{}@{}:{}@{}:{}/{}'.format(\n",
    "            self.conn_data['username'], self.conn_data['hostname'], self.conn_data['password'],\n",
    "            self.conn_data['host'], self.conn_data['port'],\n",
    "            self.database)\n",
    "        return create_engine(pymssqltext)\n",
    "    \n",
    "    @property\n",
    "    def conn(self):\n",
    "        return self.connection_engine()\n",
    "    \n",
    "    @property\n",
    "    def dtypes(self):\n",
    "        return dict(zip(self.mapping.keys(), [item[0] for item in list(\n",
    "            self.mapping.values())]))\n",
    "    \n",
    "    @property\n",
    "    def nullable(self):\n",
    "        return dict(zip(self.mapping.keys(), [item[1] for item in list(\n",
    "                self.mapping.values())]))\n",
    "        "
   ]
  },
  {
   "cell_type": "code",
   "execution_count": null,
   "metadata": {},
   "outputs": [],
   "source": [
    "class AzureSaleTaxdoo(AzureTarget):\n",
    "    \"\"\"\n",
    "    For each table define a class which inherits from the Destination class.\n",
    "    \"\"\"\n",
    "    table = 'taxdoo_sale'\n",
    "    if_exists = 'append'\n",
    "    eventdate = 'transaction_arrival_date'\n",
    "    filterdict = {'transaction_type': ['Transfer']}\n",
    "    \n",
    "    @property\n",
    "    def mapping(self):\n",
    "        return {\n",
    "            'transaction_arrival_date': (self.datey, False),\n",
    "            'transaction_number': (self.textshort, False),\n",
    "            'taxdoo_net_amount': (self.floaty, False),\n",
    "            'taxdoo_vat_amount': (self.floaty, False),\n",
    "            'transaction_type': (self.textshort, False),\n",
    "            'currency': (self.textshort, False),\n",
    "            'sent_from_country': (self.textshort, False),\n",
    "            'sent_to_country': (self.textshort, False),\n",
    "            'taxdoo_country_of_taxation': (self.textshort, False)}\n"
   ]
  },
  {
   "cell_type": "code",
   "execution_count": null,
   "metadata": {},
   "outputs": [],
   "source": [
    "m = AzureSaleTaxdoo()"
   ]
  },
  {
   "cell_type": "code",
   "execution_count": null,
   "metadata": {},
   "outputs": [],
   "source": [
    "import pandas as pd\n",
    "result = pd.read_sql_table(m.table, m.conn)"
   ]
  },
  {
   "cell_type": "code",
   "execution_count": null,
   "metadata": {},
   "outputs": [],
   "source": [
    "m.nullable"
   ]
  },
  {
   "cell_type": "code",
   "execution_count": null,
   "metadata": {},
   "outputs": [],
   "source": []
  }
 ],
 "metadata": {
  "kernelspec": {
   "display_name": "Python 3",
   "language": "python",
   "name": "python3"
  },
  "language_info": {
   "codemirror_mode": {
    "name": "ipython",
    "version": 3
   },
   "file_extension": ".py",
   "mimetype": "text/x-python",
   "name": "python",
   "nbconvert_exporter": "python",
   "pygments_lexer": "ipython3",
   "version": "3.6.5"
  }
 },
 "nbformat": 4,
 "nbformat_minor": 2
}
