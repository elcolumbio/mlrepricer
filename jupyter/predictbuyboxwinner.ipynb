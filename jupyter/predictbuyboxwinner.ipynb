{
 "cells": [
  {
   "cell_type": "markdown",
   "metadata": {},
   "source": [
    "Let's see if we can make  a model to predict the buybox winner"
   ]
  },
  {
   "cell_type": "code",
   "execution_count": 15,
   "metadata": {},
   "outputs": [],
   "source": [
    "from mlrepricer import schemas, helper\n",
    "from mlrepricer.database import SQLite\n",
    "import pandas as pd\n",
    "import numpy as np"
   ]
  },
  {
   "cell_type": "code",
   "execution_count": 16,
   "metadata": {},
   "outputs": [],
   "source": [
    "t = schemas.pricemonitor(SQLite)()  # tableobject\n",
    "df = pd.read_sql_query(f'SELECT * FROM {t.table}', t.conn, parse_dates=[t.eventdate], index_col='ID')"
   ]
  },
  {
   "cell_type": "code",
   "execution_count": 17,
   "metadata": {},
   "outputs": [],
   "source": [
    "# we discuss the filter1 in the views notebook\n",
    "filter1 = df[(df.instock==1)&(df.isfeaturedmerchant==1)]\n",
    "filter1 = filter1.drop(['instock', 'isfeaturedmerchant'], axis=1)\n",
    "# that's not there yet\n",
    "filter1 = filter1[(filter1.shipping_maxhours+filter1.shipping_minhours)<=72]"
   ]
  },
  {
   "cell_type": "code",
   "execution_count": 18,
   "metadata": {},
   "outputs": [],
   "source": [
    "# normalize the feedback count to a number between 0 and 1\n",
    "filter1['feedback'] = np.where(np.log(filter1.feedback+1)/10<=1,\n",
    "                          np.log(filter1.feedback+1)/10, 1)"
   ]
  },
  {
   "cell_type": "code",
   "execution_count": 19,
   "metadata": {},
   "outputs": [],
   "source": [
    "# normalize the feedbackpercent to a number between 0 and 1\n",
    "filter1['feedbackpercent'] = (filter1.feedbackpercent/100)**2"
   ]
  },
  {
   "cell_type": "code",
   "execution_count": 20,
   "metadata": {},
   "outputs": [],
   "source": [
    "# combine max and minshipping time to a number between 0 and 1\n",
    "filter1['shipping_time'] = (filter1.shipping_maxhours+filter1.shipping_minhours)"
   ]
  },
  {
   "cell_type": "code",
   "execution_count": 21,
   "metadata": {},
   "outputs": [],
   "source": [
    "# one hot encode shipping time, there should be only 3-10 unique times\n",
    "filter1 = pd.get_dummies(filter1, prefix='shipping_time', columns=['shipping_time'])\n",
    "filter1 = filter1.drop(['shipping_maxhours', 'shipping_minhours'], axis=1)"
   ]
  },
  {
   "cell_type": "code",
   "execution_count": 29,
   "metadata": {},
   "outputs": [],
   "source": [
    "# linear transformation of none prime prices\n",
    "filter1['price'] = np.where((filter1.isprime==0), filter1.price*0.859-0.567, filter1.price)"
   ]
  },
  {
   "cell_type": "code",
   "execution_count": 31,
   "metadata": {},
   "outputs": [],
   "source": [
    "filter1 = filter1.drop(['isprime'], axis=1)"
   ]
  },
  {
   "cell_type": "code",
   "execution_count": 33,
   "metadata": {},
   "outputs": [],
   "source": [
    "filter1.head().to_csv('test.csv')"
   ]
  },
  {
   "cell_type": "code",
   "execution_count": null,
   "metadata": {},
   "outputs": [],
   "source": []
  }
 ],
 "metadata": {
  "kernelspec": {
   "display_name": "Python 3",
   "language": "python",
   "name": "python3"
  },
  "language_info": {
   "codemirror_mode": {
    "name": "ipython",
    "version": 3
   },
   "file_extension": ".py",
   "mimetype": "text/x-python",
   "name": "python",
   "nbconvert_exporter": "python",
   "pygments_lexer": "ipython3",
   "version": "3.6.5"
  }
 },
 "nbformat": 4,
 "nbformat_minor": 2
}
