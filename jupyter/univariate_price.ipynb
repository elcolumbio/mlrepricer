{
 "cells": [
  {
   "cell_type": "markdown",
   "metadata": {},
   "source": [
    "# Univariate analysis of the price\n",
    "We do that because it's a good way to get closer to the truth.\n",
    "\n",
    "The problem we reduce you can formulate as:\n",
    "At every single point in time the buybox can be won by an arbitrary number of nonprime listings.\n",
    "Or an arbitrary number of prime listings. Or a random combination of both.\n",
    "\n",
    "So we differ not by sellerid, instead we build the mean and count the buybox winning listings split by prime and non prime listings.\n",
    "\n",
    "The result will be a correctly forward filled timeseries."
   ]
  },
  {
   "cell_type": "code",
   "execution_count": null,
   "metadata": {},
   "outputs": [],
   "source": [
    "from mlrepricer import match, setup, helper\n",
    "import altair as alt\n",
    "import numpy as np\n",
    "import warnings\n",
    "alt.data_transformers.enable('default', max_rows=1000000)"
   ]
  },
  {
   "cell_type": "code",
   "execution_count": null,
   "metadata": {},
   "outputs": [],
   "source": [
    "df = helper.load_dataframe('alldata')"
   ]
  },
  {
   "cell_type": "code",
   "execution_count": null,
   "metadata": {},
   "outputs": [],
   "source": [
    "df = df[df.isbuyboxwinner==1]\n",
    "df['prime_price'] = np.where(df['isprime']==1, df['price'], np.nan)\n",
    "df['nonprime_price'] = np.where(df['isprime']==0, df['price'], np.nan)"
   ]
  },
  {
   "cell_type": "code",
   "execution_count": null,
   "metadata": {},
   "outputs": [],
   "source": [
    "with warnings.catch_warnings():\n",
    "    warnings.simplefilter(\"ignore\", category=RuntimeWarning)\n",
    "    result = df.groupby(['time_changed', 'asin']).agg({'prime_price': [np.nanmean, 'count'], 'nonprime_price': [np.nanmean, 'count']}).sort_index()"
   ]
  },
  {
   "cell_type": "code",
   "execution_count": null,
   "metadata": {},
   "outputs": [],
   "source": []
  },
  {
   "cell_type": "code",
   "execution_count": null,
   "metadata": {},
   "outputs": [],
   "source": [
    "result.head()"
   ]
  },
  {
   "cell_type": "code",
   "execution_count": null,
   "metadata": {},
   "outputs": [],
   "source": [
    "result['diff'] = np.where(result[('prime_price', 'count')]==result[('nonprime_price', 'count')], result[('prime_price', 'nanmean')]-result[('nonprime_price', 'nanmean')], np.nan)\n",
    "result['quotient'] = np.where(result[('prime_price', 'count')]==result[('nonprime_price', 'count')], result[('prime_price', 'nanmean')]/result[('nonprime_price', 'nanmean')], np.nan)"
   ]
  },
  {
   "cell_type": "code",
   "execution_count": null,
   "metadata": {},
   "outputs": [],
   "source": [
    "m.head()"
   ]
  },
  {
   "cell_type": "code",
   "execution_count": null,
   "metadata": {},
   "outputs": [],
   "source": [
    "import statsmodels.api as sm\n",
    "\n",
    "X = m['prime_price nanmean']\n",
    "y = m['nonprime_price nanmean']\n",
    "X = sm.add_constant(X)\n",
    "\n",
    "# Note the difference in argument order\n",
    "model = sm.OLS(y, X).fit()\n",
    "predictions = model.predict(X) # make the predictions by the model\n",
    "\n",
    "# Print out the statistics\n",
    "model.summary()"
   ]
  },
  {
   "cell_type": "code",
   "execution_count": null,
   "metadata": {},
   "outputs": [],
   "source": [
    "alt.Chart(m).mark_point().encode(\n",
    "    x=alt.X('prime_price nanmean'),\n",
    "    y=alt.Y('nonprime_price nanmean'),\n",
    "    tooltip=('asin'),\n",
    "    color='asin:N').interactive()"
   ]
  },
  {
   "cell_type": "code",
   "execution_count": null,
   "metadata": {},
   "outputs": [],
   "source": [
    "m = result[result['diff'].notnull()][[('prime_price', 'nanmean'), ('nonprime_price', 'nanmean')]]"
   ]
  },
  {
   "cell_type": "code",
   "execution_count": null,
   "metadata": {},
   "outputs": [],
   "source": [
    "m.columns.get_level_values(1)"
   ]
  },
  {
   "cell_type": "code",
   "execution_count": null,
   "metadata": {},
   "outputs": [],
   "source": [
    "m.columns = [' '.join(col).strip() for col in m.columns.values]"
   ]
  },
  {
   "cell_type": "code",
   "execution_count": null,
   "metadata": {},
   "outputs": [],
   "source": [
    "m.reset_index(inplace=True)"
   ]
  },
  {
   "cell_type": "code",
   "execution_count": null,
   "metadata": {},
   "outputs": [],
   "source": []
  }
 ],
 "metadata": {
  "kernelspec": {
   "display_name": "Python 3",
   "language": "python",
   "name": "python3"
  },
  "language_info": {
   "codemirror_mode": {
    "name": "ipython",
    "version": 3
   },
   "file_extension": ".py",
   "mimetype": "text/x-python",
   "name": "python",
   "nbconvert_exporter": "python",
   "pygments_lexer": "ipython3",
   "version": "3.6.5"
  }
 },
 "nbformat": 4,
 "nbformat_minor": 2
}
