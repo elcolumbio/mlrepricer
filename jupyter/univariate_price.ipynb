{
 "cells": [
  {
   "cell_type": "markdown",
   "metadata": {},
   "source": [
    "# Beat the Boombox? Prime vs Nonprime\n",
    "\n",
    "# Univariate analysis of the price\n",
    "## time in buybox is weighted in\n",
    "We do that because it's a good way to get closer to the truth.\n",
    "\n",
    "The problem we reduce you can formulate as:\n",
    "At every single point in time the buybox can be won by an arbitrary number of nonprime listings.\n",
    "Or an arbitrary number of prime listings. Or a random combination of both.\n",
    "\n",
    "So we differ not by sellerid, instead we build the mean and count the buybox winning listings split by prime and non prime listings.\n",
    "\n",
    "The result will be a correctly forward filled timeseries.\n",
    "You have to be conscious about your np.nan and 0 and None values.\n",
    "They all behave different and you have to convert them multiple times."
   ]
  },
  {
   "cell_type": "code",
   "execution_count": null,
   "metadata": {},
   "outputs": [],
   "source": [
    "from mlrepricer import match, setup, helper\n",
    "import altair as alt\n",
    "import numpy as np\n",
    "import pandas as pd\n",
    "import warnings\n",
    "alt.data_transformers.enable('default', max_rows=1000000)"
   ]
  },
  {
   "cell_type": "code",
   "execution_count": null,
   "metadata": {},
   "outputs": [],
   "source": [
    "df = helper.load_dataframe('alldata')"
   ]
  },
  {
   "cell_type": "code",
   "execution_count": null,
   "metadata": {},
   "outputs": [],
   "source": [
    "# make to helper columns\n",
    "# we are aiming for two rows for each asin at each point in time\n",
    "df = df[df.isbuyboxwinner==1]\n",
    "df['prime_price'] = np.where(df['isprime']==1, df['price'], np.nan)\n",
    "df['nonprime_price'] = np.where(df['isprime']==0, df['price'], np.nan)"
   ]
  },
  {
   "cell_type": "code",
   "execution_count": null,
   "metadata": {},
   "outputs": [],
   "source": [
    "with warnings.catch_warnings():\n",
    "    warnings.simplefilter(\"ignore\", category=RuntimeWarning)\n",
    "    result = df.groupby(['asin', 'time_changed']).agg({'prime_price': np.nanmean, 'nonprime_price': np.nanmean}).sort_index()\n",
    "    result = result.fillna(0)  # very important or you will fill up if no prime offer did win the pricebox"
   ]
  },
  {
   "cell_type": "code",
   "execution_count": null,
   "metadata": {},
   "outputs": [],
   "source": [
    "# that's wide form data, i think that's more intuitive and nice to ffill\n",
    "crazy = result.reset_index().pivot(index='time_changed', columns='asin').fillna(method='ffill').asfreq('1MIN', method='ffill')"
   ]
  },
  {
   "cell_type": "code",
   "execution_count": null,
   "metadata": {},
   "outputs": [],
   "source": [
    "# for altair longform data is prefered\n",
    "longform = crazy.reset_index().melt('time_changed')\n",
    "# control subsets of your data, is it plausible\n",
    "# longform[longform.time_changed=='2018-05-09 23:18:11.862'].dropna()"
   ]
  },
  {
   "cell_type": "code",
   "execution_count": null,
   "metadata": {},
   "outputs": [],
   "source": [
    "# we use the fact that the subsets have the same length and we can merge them this way\n",
    "base = pd.DataFrame()\n",
    "base['nonprime_price'] = longform[longform[None]=='nonprime_price']['value'].values\n",
    "base['prime_price'] = longform[longform[None]=='prime_price']['value'].values\n",
    "base['time_changed'] = longform[longform[None]=='prime_price']['time_changed'].values\n",
    "# wanna have a look at a subset?\n",
    "# base[base.time_changed=='2018-05-09 23:18:11.862'].dropna()"
   ]
  },
  {
   "cell_type": "code",
   "execution_count": null,
   "metadata": {},
   "outputs": [],
   "source": [
    "# what the heck where did this zeros come from?\n",
    "base = base.replace(0, np.nan)\n",
    "# oh we are only interest in those points in time where a prime and nonprime listing shares the buybox\n",
    "base = base[base.nonprime_price.notna() & base.prime_price.notna()]"
   ]
  },
  {
   "cell_type": "code",
   "execution_count": null,
   "metadata": {},
   "outputs": [],
   "source": [
    "m = base\n",
    "import statsmodels.api as sm\n",
    "\n",
    "X = m['prime_price']\n",
    "y = m['nonprime_price']\n",
    "X = sm.add_constant(X)\n",
    "\n",
    "# Note the difference in argument order\n",
    "model = sm.OLS(y, X).fit()\n",
    "predictions = model.predict(X) # make the predictions by the model\n",
    "\n",
    "# Print out the statistics\n",
    "model.summary()"
   ]
  },
  {
   "cell_type": "code",
   "execution_count": null,
   "metadata": {},
   "outputs": [],
   "source": [
    "price = alt.Chart(base).mark_point().encode(\n",
    "    y=alt.Y('nonprime_price'),\n",
    "    x=alt.X('prime_price', scale=alt.Scale(zero=False)))\n",
    "\n",
    "x = np.arange(22)\n",
    "# here you should but in your function from the statsmodel\n",
    "data = pd.DataFrame({'nonprime_price': x*0.859-0.5670,\n",
    "                     'prime_price': x})\n",
    "\n",
    "regr = alt.Chart(data).mark_line().encode(\n",
    "    x='prime_price',\n",
    "    y='nonprime_price'\n",
    ")"
   ]
  },
  {
   "cell_type": "code",
   "execution_count": null,
   "metadata": {},
   "outputs": [],
   "source": [
    "regr + price"
   ]
  },
  {
   "cell_type": "code",
   "execution_count": null,
   "metadata": {},
   "outputs": [],
   "source": [
    "price = alt.Chart(sub.replace(0, np.nan)).mark_point().encode(\n",
    "    x=alt.X('time_changed'),\n",
    "    y=alt.Y('value:Q', scale=alt.Scale(zero=False)),\n",
    "    tooltip=('time_changed'),\n",
    "    text='time_changed',\n",
    "    color='None:N').interactive()\n",
    "\n",
    "x = np.arange(22)\n",
    "data = pd.DataFrame({'x': x,\n",
    "                     'sin(x)': x*0.8082+0.3841})\n",
    "\n",
    "regr = alt.Chart(data).mark_line().encode(\n",
    "    x='x',\n",
    "    y='sin(x)'\n",
    ")\n",
    "price"
   ]
  }
 ],
 "metadata": {
  "kernelspec": {
   "display_name": "Python 3",
   "language": "python",
   "name": "python3"
  },
  "language_info": {
   "codemirror_mode": {
    "name": "ipython",
    "version": 3
   },
   "file_extension": ".py",
   "mimetype": "text/x-python",
   "name": "python",
   "nbconvert_exporter": "python",
   "pygments_lexer": "ipython3",
   "version": "3.6.5"
  }
 },
 "nbformat": 4,
 "nbformat_minor": 2
}
