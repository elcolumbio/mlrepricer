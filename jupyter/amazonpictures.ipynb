{
 "cells": [
  {
   "cell_type": "code",
   "execution_count": null,
   "metadata": {},
   "outputs": [],
   "source": [
    "import requests\n",
    "from lxml import html\n",
    "\n",
    "import redis\n",
    "from mlrepricer import redisdb, helper\n",
    "from random import randint\n",
    "import time\n",
    "\n",
    "from ipywidgets import Image"
   ]
  },
  {
   "cell_type": "markdown",
   "metadata": {},
   "source": [
    "How you get started with redis."
   ]
  },
  {
   "cell_type": "code",
   "execution_count": null,
   "metadata": {},
   "outputs": [],
   "source": [
    "r = redis.StrictRedis(**helper.rediscred, decode_responses=True)\n",
    "redisdb.server_start()"
   ]
  },
  {
   "cell_type": "markdown",
   "metadata": {},
   "source": [
    "Iterate over pictures:"
   ]
  },
  {
   "cell_type": "code",
   "execution_count": null,
   "metadata": {},
   "outputs": [],
   "source": [
    "m = []\n",
    "for asin in r.scan_iter():\n",
    "    if asin.startswith('pic'):\n",
    "        m.append(list(r.smembers(asin))[0])"
   ]
  },
  {
   "cell_type": "code",
   "execution_count": null,
   "metadata": {},
   "outputs": [],
   "source": [
    "# that would be one picture\n",
    "pic = list(r.smembers('pic_B01F2RLCJ8'))[0]\n",
    "#r.delete('pic_B01J670I36')\n",
    "# lets use the list of pictures, you can change the index to play around\n",
    "Image(value=m[23])"
   ]
  },
  {
   "cell_type": "code",
   "execution_count": null,
   "metadata": {},
   "outputs": [],
   "source": [
    "def download_image(asin):\n",
    "    country = 'de'\n",
    "    site = requests.get(f'https://amazon.{country}/dp/{asin}')\n",
    "    parser = html.fromstring(site.text)\n",
    "    IMG = \"//img[@id='landingImage']\"\n",
    "    image_link = parser.xpath(IMG)[0].get('src')\n",
    "    image = requests.get(image_link).content\n",
    "    assert isinstance(image, bytes)\n",
    "    return image\n",
    "    \n",
    "def dump_into_redis(image):\n",
    "    r.sadd(f'pic_{asin}', image)"
   ]
  },
  {
   "cell_type": "code",
   "execution_count": null,
   "metadata": {},
   "outputs": [],
   "source": [
    "for asin in r.scan_iter():\n",
    "    if asin != 'updated_asins' and not asin.startswith('pic'):\n",
    "        if not r.exists('pic_'+asin):\n",
    "            print(asin)\n",
    "            time.sleep(randint(2,4))\n",
    "            try:\n",
    "                dump_into_redis(download_image(asin))\n",
    "            except:\n",
    "                time.sleep(randint(5, 6))"
   ]
  }
 ],
 "metadata": {
  "kernelspec": {
   "display_name": "Python 3",
   "language": "python",
   "name": "python3"
  },
  "language_info": {
   "codemirror_mode": {
    "name": "ipython",
    "version": 3
   },
   "file_extension": ".py",
   "mimetype": "text/x-python",
   "name": "python",
   "nbconvert_exporter": "python",
   "pygments_lexer": "ipython3",
   "version": "3.6.6"
  }
 },
 "nbformat": 4,
 "nbformat_minor": 2
}
