{
 "cells": [
  {
   "cell_type": "code",
   "execution_count": 1,
   "metadata": {},
   "outputs": [],
   "source": [
    "import requests\n",
    "from lxml import html\n",
    "\n",
    "import redis\n",
    "from random import randint\n",
    "import time\n",
    "\n",
    "from ipywidgets import Image\n",
    "import plotly.graph_objs as go"
   ]
  },
  {
   "cell_type": "code",
   "execution_count": 2,
   "metadata": {},
   "outputs": [],
   "source": [
    "from mlrepricer import helper, redisdb, helper\n",
    "from mlrepricer.oldsql import schemas\n",
    "from mlrepricer.oldsql.database import SQLite\n",
    "import pandas as pd\n",
    "import numpy as np"
   ]
  },
  {
   "cell_type": "markdown",
   "metadata": {},
   "source": [
    "How you get started with redis."
   ]
  },
  {
   "cell_type": "code",
   "execution_count": 3,
   "metadata": {},
   "outputs": [],
   "source": [
    "r = redis.StrictRedis(**helper.rediscred, decode_responses=True)\n",
    "redisdb.server_start()"
   ]
  },
  {
   "cell_type": "markdown",
   "metadata": {},
   "source": [
    "Iterate over pictures:"
   ]
  },
  {
   "cell_type": "code",
   "execution_count": 4,
   "metadata": {},
   "outputs": [],
   "source": [
    "pictures = dict()\n",
    "for asin in r.scan_iter():\n",
    "    if asin.startswith('pic'):\n",
    "        pictures.update({asin: list(r.smembers(asin))[0]})"
   ]
  },
  {
   "cell_type": "code",
   "execution_count": 5,
   "metadata": {},
   "outputs": [],
   "source": [
    "t = schemas.pricemonitor(SQLite)()  # tableobject\n",
    "df = pd.read_sql_query(f'SELECT * FROM {t.table}', t.conn, parse_dates=[t.eventdate], index_col='ID')"
   ]
  },
  {
   "cell_type": "code",
   "execution_count": 6,
   "metadata": {},
   "outputs": [
    {
     "data": {
      "text/html": [
       "<div>\n",
       "<style scoped>\n",
       "    .dataframe tbody tr th:only-of-type {\n",
       "        vertical-align: middle;\n",
       "    }\n",
       "\n",
       "    .dataframe tbody tr th {\n",
       "        vertical-align: top;\n",
       "    }\n",
       "\n",
       "    .dataframe thead th {\n",
       "        text-align: right;\n",
       "    }\n",
       "</style>\n",
       "<table border=\"1\" class=\"dataframe\">\n",
       "  <thead>\n",
       "    <tr style=\"text-align: right;\">\n",
       "      <th></th>\n",
       "      <th>asin</th>\n",
       "      <th>feedback</th>\n",
       "      <th>feedbackpercent</th>\n",
       "      <th>isbuyboxwinner</th>\n",
       "      <th>price</th>\n",
       "      <th>sellerid</th>\n",
       "      <th>time_changed</th>\n",
       "      <th>shipping_time_0</th>\n",
       "      <th>shipping_time_46</th>\n",
       "      <th>shipping_time_48</th>\n",
       "      <th>shipping_time_72</th>\n",
       "    </tr>\n",
       "    <tr>\n",
       "      <th>ID</th>\n",
       "      <th></th>\n",
       "      <th></th>\n",
       "      <th></th>\n",
       "      <th></th>\n",
       "      <th></th>\n",
       "      <th></th>\n",
       "      <th></th>\n",
       "      <th></th>\n",
       "      <th></th>\n",
       "      <th></th>\n",
       "      <th></th>\n",
       "    </tr>\n",
       "  </thead>\n",
       "  <tbody>\n",
       "    <tr>\n",
       "      <th>1</th>\n",
       "      <td>B074XTQL3D</td>\n",
       "      <td>0.878661</td>\n",
       "      <td>0.9604</td>\n",
       "      <td>1</td>\n",
       "      <td>14.17344</td>\n",
       "      <td>ADBIN7JOKZABU</td>\n",
       "      <td>2018-05-13 10:31:00.953</td>\n",
       "      <td>0</td>\n",
       "      <td>0</td>\n",
       "      <td>0</td>\n",
       "      <td>1</td>\n",
       "    </tr>\n",
       "    <tr>\n",
       "      <th>2</th>\n",
       "      <td>B074XTQL3D</td>\n",
       "      <td>0.313549</td>\n",
       "      <td>0.8281</td>\n",
       "      <td>0</td>\n",
       "      <td>14.17344</td>\n",
       "      <td>A6SCPSJ316ST</td>\n",
       "      <td>2018-05-13 10:31:00.953</td>\n",
       "      <td>0</td>\n",
       "      <td>0</td>\n",
       "      <td>1</td>\n",
       "      <td>0</td>\n",
       "    </tr>\n",
       "    <tr>\n",
       "      <th>3</th>\n",
       "      <td>B074XTQL3D</td>\n",
       "      <td>0.738088</td>\n",
       "      <td>0.9604</td>\n",
       "      <td>0</td>\n",
       "      <td>14.45691</td>\n",
       "      <td>A2EHWGAW6J9W8Q</td>\n",
       "      <td>2018-05-13 10:31:00.953</td>\n",
       "      <td>0</td>\n",
       "      <td>0</td>\n",
       "      <td>0</td>\n",
       "      <td>1</td>\n",
       "    </tr>\n",
       "    <tr>\n",
       "      <th>4</th>\n",
       "      <td>B074XTQL3D</td>\n",
       "      <td>0.363759</td>\n",
       "      <td>0.7921</td>\n",
       "      <td>0</td>\n",
       "      <td>17.52354</td>\n",
       "      <td>A1TY2HQMSLJUR2</td>\n",
       "      <td>2018-05-13 10:31:00.953</td>\n",
       "      <td>0</td>\n",
       "      <td>0</td>\n",
       "      <td>0</td>\n",
       "      <td>1</td>\n",
       "    </tr>\n",
       "    <tr>\n",
       "      <th>5</th>\n",
       "      <td>B074XTQL3D</td>\n",
       "      <td>0.523644</td>\n",
       "      <td>0.7744</td>\n",
       "      <td>0</td>\n",
       "      <td>21.41481</td>\n",
       "      <td>A392IUIG1QL0VK</td>\n",
       "      <td>2018-05-13 10:31:00.953</td>\n",
       "      <td>0</td>\n",
       "      <td>0</td>\n",
       "      <td>1</td>\n",
       "      <td>0</td>\n",
       "    </tr>\n",
       "  </tbody>\n",
       "</table>\n",
       "</div>"
      ],
      "text/plain": [
       "          asin  feedback  feedbackpercent  isbuyboxwinner     price  \\\n",
       "ID                                                                    \n",
       "1   B074XTQL3D  0.878661           0.9604               1  14.17344   \n",
       "2   B074XTQL3D  0.313549           0.8281               0  14.17344   \n",
       "3   B074XTQL3D  0.738088           0.9604               0  14.45691   \n",
       "4   B074XTQL3D  0.363759           0.7921               0  17.52354   \n",
       "5   B074XTQL3D  0.523644           0.7744               0  21.41481   \n",
       "\n",
       "          sellerid            time_changed  shipping_time_0  shipping_time_46  \\\n",
       "ID                                                                              \n",
       "1    ADBIN7JOKZABU 2018-05-13 10:31:00.953                0                 0   \n",
       "2     A6SCPSJ316ST 2018-05-13 10:31:00.953                0                 0   \n",
       "3   A2EHWGAW6J9W8Q 2018-05-13 10:31:00.953                0                 0   \n",
       "4   A1TY2HQMSLJUR2 2018-05-13 10:31:00.953                0                 0   \n",
       "5   A392IUIG1QL0VK 2018-05-13 10:31:00.953                0                 0   \n",
       "\n",
       "    shipping_time_48  shipping_time_72  \n",
       "ID                                      \n",
       "1                  0                 1  \n",
       "2                  1                 0  \n",
       "3                  0                 1  \n",
       "4                  0                 1  \n",
       "5                  1                 0  "
      ]
     },
     "execution_count": 6,
     "metadata": {},
     "output_type": "execute_result"
    }
   ],
   "source": [
    "filter1 = helper.cleanup(df)\n",
    "norm = helper.normalize(filter1)\n",
    "norm.head()"
   ]
  },
  {
   "cell_type": "code",
   "execution_count": 7,
   "metadata": {},
   "outputs": [],
   "source": [
    "fig = go.FigureWidget(\n",
    "    data=[\n",
    "        dict(\n",
    "            x=norm['time_changed'],\n",
    "            y=norm['price'],\n",
    "        )\n",
    "    ],\n",
    ")"
   ]
  },
  {
   "cell_type": "code",
   "execution_count": 8,
   "metadata": {},
   "outputs": [],
   "source": [
    "scatter = fig.data[0]\n",
    "scatter.text = norm['sellerid']\n",
    "scatter.hoverinfo = 'text'"
   ]
  },
  {
   "cell_type": "code",
   "execution_count": 9,
   "metadata": {},
   "outputs": [],
   "source": [
    "from ipywidgets import HTML\n",
    "details = HTML()"
   ]
  },
  {
   "cell_type": "code",
   "execution_count": 10,
   "metadata": {},
   "outputs": [],
   "source": [
    "def hover_fn(trace, points, state):\n",
    "    ind = points.point_inds[0]\n",
    "    details.value = norm.iloc[ind].to_frame().to_html()\n",
    "\n",
    "scatter.on_hover(hover_fn)"
   ]
  },
  {
   "cell_type": "code",
   "execution_count": 17,
   "metadata": {},
   "outputs": [
    {
     "data": {
      "application/vnd.jupyter.widget-view+json": {
       "model_id": "247dccd4384d49c18d67b45bb4505622",
       "version_major": 2,
       "version_minor": 0
      },
      "text/plain": [
       "Image(value=b'\\xff\\xd8\\xff\\xe0\\x00\\x10JFIF\\x00\\x01\\x01\\x00\\x00\\x01\\x00\\x01\\x00\\x00\\xff\\xdb\\x00C\\x00\\n\\x07\\x07\\…"
      ]
     },
     "metadata": {},
     "output_type": "display_data"
    }
   ],
   "source": [
    "from ipywidgets import Image, Layout\n",
    "image_widget = Image(\n",
    "    value=pictures['pic_B075NJNLJT'],\n",
    "    layout=Layout(height='400px', width='400px')\n",
    ")\n",
    "image_widget"
   ]
  },
  {
   "cell_type": "code",
   "execution_count": 12,
   "metadata": {},
   "outputs": [],
   "source": [
    "def hover_fn(trace, points, state):\n",
    "\n",
    "    ind = points.point_inds[0]\n",
    "    \n",
    "    # Update details HTML widget\n",
    "    details.value = norm.iloc[ind].to_frame().to_html()\n",
    "    \n",
    "    # Update image widget\n",
    "    model_year = 'pic_' + norm['asin'][ind]\n",
    "    image_widget.value = m[model_year]\n",
    "\n",
    "scatter.on_hover(hover_fn)"
   ]
  },
  {
   "cell_type": "code",
   "execution_count": 18,
   "metadata": {},
   "outputs": [
    {
     "data": {
      "application/vnd.jupyter.widget-view+json": {
       "model_id": "f74ea9074ae943a5bf24a52cd4eb1eaa",
       "version_major": 2,
       "version_minor": 0
      },
      "text/plain": [
       "VBox(children=(FigureWidget({\n",
       "    'data': [{'hoverinfo': 'text',\n",
       "              'text': array(['ADBIN7JOKZABU',…"
      ]
     },
     "metadata": {},
     "output_type": "display_data"
    }
   ],
   "source": [
    "from ipywidgets import HBox, VBox\n",
    "VBox([fig,\n",
    "      HBox([image_widget, details])])"
   ]
  },
  {
   "cell_type": "code",
   "execution_count": null,
   "metadata": {},
   "outputs": [],
   "source": []
  },
  {
   "cell_type": "code",
   "execution_count": 14,
   "metadata": {},
   "outputs": [
    {
     "ename": "NameError",
     "evalue": "name 'm' is not defined",
     "output_type": "error",
     "traceback": [
      "\u001b[0;31m---------------------------------------------------------------------------\u001b[0m",
      "\u001b[0;31mNameError\u001b[0m                                 Traceback (most recent call last)",
      "\u001b[0;32m<ipython-input-14-8fac56c7d19b>\u001b[0m in \u001b[0;36m<module>\u001b[0;34m()\u001b[0m\n\u001b[1;32m      3\u001b[0m \u001b[0;31m#r.delete('pic_B01J670I36')\u001b[0m\u001b[0;34m\u001b[0m\u001b[0;34m\u001b[0m\u001b[0m\n\u001b[1;32m      4\u001b[0m \u001b[0;31m# lets use the list of pictures, you can change the index to play around\u001b[0m\u001b[0;34m\u001b[0m\u001b[0;34m\u001b[0m\u001b[0m\n\u001b[0;32m----> 5\u001b[0;31m \u001b[0mImage\u001b[0m\u001b[0;34m(\u001b[0m\u001b[0mvalue\u001b[0m\u001b[0;34m=\u001b[0m\u001b[0mm\u001b[0m\u001b[0;34m[\u001b[0m\u001b[0;36m49\u001b[0m\u001b[0;34m]\u001b[0m\u001b[0;34m)\u001b[0m\u001b[0;34m\u001b[0m\u001b[0m\n\u001b[0m",
      "\u001b[0;31mNameError\u001b[0m: name 'm' is not defined"
     ]
    }
   ],
   "source": [
    "# that would be one picture\n",
    "pic = list(r.smembers('pic_B01F2RLCJ8'))[0]\n",
    "#r.delete('pic_B01J670I36')\n",
    "# lets use the list of pictures, you can change the index to play around\n",
    "Image(value=m[49])"
   ]
  },
  {
   "cell_type": "code",
   "execution_count": 15,
   "metadata": {},
   "outputs": [],
   "source": [
    "def download_image(asin):\n",
    "    country = 'de'\n",
    "    site = requests.get(f'https://amazon.{country}/dp/{asin}')\n",
    "    parser = html.fromstring(site.text)\n",
    "    IMG = \"//img[@id='landingImage']\"\n",
    "    image_link = parser.xpath(IMG)[0].get('src')\n",
    "    image = requests.get(image_link).content\n",
    "    assert isinstance(image, bytes)\n",
    "    return image\n",
    "    \n",
    "def dump_into_redis(image):\n",
    "    r.sadd(f'pic_{asin}', image)"
   ]
  },
  {
   "cell_type": "code",
   "execution_count": 16,
   "metadata": {},
   "outputs": [
    {
     "name": "stdout",
     "output_type": "stream",
     "text": [
      "B07BGJ72FC\n",
      "B07BGBXBMG\n"
     ]
    },
    {
     "ename": "KeyboardInterrupt",
     "evalue": "",
     "output_type": "error",
     "traceback": [
      "\u001b[0;31m---------------------------------------------------------------------------\u001b[0m",
      "\u001b[0;31mKeyboardInterrupt\u001b[0m                         Traceback (most recent call last)",
      "\u001b[0;32m<ipython-input-16-c446f78bde64>\u001b[0m in \u001b[0;36m<module>\u001b[0;34m()\u001b[0m\n\u001b[1;32m      3\u001b[0m         \u001b[0;32mif\u001b[0m \u001b[0;32mnot\u001b[0m \u001b[0mr\u001b[0m\u001b[0;34m.\u001b[0m\u001b[0mexists\u001b[0m\u001b[0;34m(\u001b[0m\u001b[0;34m'pic_'\u001b[0m\u001b[0;34m+\u001b[0m\u001b[0masin\u001b[0m\u001b[0;34m)\u001b[0m\u001b[0;34m:\u001b[0m\u001b[0;34m\u001b[0m\u001b[0m\n\u001b[1;32m      4\u001b[0m             \u001b[0mprint\u001b[0m\u001b[0;34m(\u001b[0m\u001b[0masin\u001b[0m\u001b[0;34m)\u001b[0m\u001b[0;34m\u001b[0m\u001b[0m\n\u001b[0;32m----> 5\u001b[0;31m             \u001b[0mtime\u001b[0m\u001b[0;34m.\u001b[0m\u001b[0msleep\u001b[0m\u001b[0;34m(\u001b[0m\u001b[0mrandint\u001b[0m\u001b[0;34m(\u001b[0m\u001b[0;36m2\u001b[0m\u001b[0;34m,\u001b[0m\u001b[0;36m4\u001b[0m\u001b[0;34m)\u001b[0m\u001b[0;34m)\u001b[0m\u001b[0;34m\u001b[0m\u001b[0m\n\u001b[0m\u001b[1;32m      6\u001b[0m             \u001b[0;32mtry\u001b[0m\u001b[0;34m:\u001b[0m\u001b[0;34m\u001b[0m\u001b[0m\n\u001b[1;32m      7\u001b[0m                 \u001b[0mdump_into_redis\u001b[0m\u001b[0;34m(\u001b[0m\u001b[0mdownload_image\u001b[0m\u001b[0;34m(\u001b[0m\u001b[0masin\u001b[0m\u001b[0;34m)\u001b[0m\u001b[0;34m)\u001b[0m\u001b[0;34m\u001b[0m\u001b[0m\n",
      "\u001b[0;31mKeyboardInterrupt\u001b[0m: "
     ]
    }
   ],
   "source": [
    "for asin in r.scan_iter():\n",
    "    if asin != 'updated_asins' and not asin.startswith('pic'):\n",
    "        if not r.exists('pic_'+asin):\n",
    "            print(asin)\n",
    "            time.sleep(randint(2,4))\n",
    "            try:\n",
    "                dump_into_redis(download_image(asin))\n",
    "            except:\n",
    "                time.sleep(randint(5, 6))"
   ]
  },
  {
   "cell_type": "code",
   "execution_count": null,
   "metadata": {},
   "outputs": [],
   "source": []
  }
 ],
 "metadata": {
  "kernelspec": {
   "display_name": "Python 3",
   "language": "python",
   "name": "python3"
  },
  "language_info": {
   "codemirror_mode": {
    "name": "ipython",
    "version": 3
   },
   "file_extension": ".py",
   "mimetype": "text/x-python",
   "name": "python",
   "nbconvert_exporter": "python",
   "pygments_lexer": "ipython3",
   "version": "3.6.6"
  }
 },
 "nbformat": 4,
 "nbformat_minor": 2
}
