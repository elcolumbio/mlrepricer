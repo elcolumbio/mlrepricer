{
 "cells": [
  {
   "cell_type": "code",
   "execution_count": null,
   "metadata": {},
   "outputs": [],
   "source": [
    "import requests\n",
    "from lxml import html\n",
    "\n",
    "import redis\n",
    "from random import randint\n",
    "import time\n",
    "\n",
    "from ipywidgets import Image\n",
    "import plotly.graph_objs as go"
   ]
  },
  {
   "cell_type": "code",
   "execution_count": null,
   "metadata": {},
   "outputs": [],
   "source": [
    "from mlrepricer import helper, redisdb, helper\n",
    "from mlrepricer.oldsql import schemas\n",
    "from mlrepricer.oldsql.database import SQLite\n",
    "import pandas as pd\n",
    "import numpy as np"
   ]
  },
  {
   "cell_type": "markdown",
   "metadata": {},
   "source": [
    "How you get started with redis."
   ]
  },
  {
   "cell_type": "code",
   "execution_count": null,
   "metadata": {},
   "outputs": [],
   "source": [
    "redisdb.server_start()\n",
    "r = redis.StrictRedis(**helper.rediscred, decode_responses=True)"
   ]
  },
  {
   "cell_type": "code",
   "execution_count": null,
   "metadata": {},
   "outputs": [],
   "source": [
    "type(r)"
   ]
  },
  {
   "cell_type": "markdown",
   "metadata": {},
   "source": [
    "Iterate over pictures:"
   ]
  },
  {
   "cell_type": "code",
   "execution_count": null,
   "metadata": {},
   "outputs": [],
   "source": [
    "pictures = dict()\n",
    "for asin in r.scan_iter():\n",
    "    if asin.startswith('pic'):\n",
    "        pictures.update({asin: list(r.smembers(asin))[0]})"
   ]
  },
  {
   "cell_type": "code",
   "execution_count": null,
   "metadata": {},
   "outputs": [],
   "source": [
    "t = schemas.pricemonitor(SQLite)()  # tableobject\n",
    "df = pd.read_sql_query(f'SELECT * FROM {t.table}', t.conn, parse_dates=[t.eventdate], index_col='ID')"
   ]
  },
  {
   "cell_type": "code",
   "execution_count": null,
   "metadata": {},
   "outputs": [],
   "source": [
    "filter1 = helper.cleanup(df)\n",
    "norm = helper.normalize(filter1)\n",
    "norm.head()"
   ]
  },
  {
   "cell_type": "code",
   "execution_count": null,
   "metadata": {},
   "outputs": [],
   "source": [
    "fig = go.FigureWidget(\n",
    "    data=[\n",
    "        dict(\n",
    "            x=norm['time_changed'],\n",
    "            y=norm['price'],\n",
    "        )\n",
    "    ],\n",
    ")"
   ]
  },
  {
   "cell_type": "code",
   "execution_count": null,
   "metadata": {},
   "outputs": [],
   "source": [
    "scatter = fig.data[0]\n",
    "scatter.text = norm['sellerid']\n",
    "scatter.hoverinfo = 'text'"
   ]
  },
  {
   "cell_type": "code",
   "execution_count": null,
   "metadata": {},
   "outputs": [],
   "source": [
    "from ipywidgets import HTML\n",
    "details = HTML()"
   ]
  },
  {
   "cell_type": "code",
   "execution_count": null,
   "metadata": {},
   "outputs": [],
   "source": [
    "def hover_fn(trace, points, state):\n",
    "    ind = points.point_inds[0]\n",
    "    details.value = norm.iloc[ind].to_frame().to_html()\n",
    "\n",
    "scatter.on_hover(hover_fn)"
   ]
  },
  {
   "cell_type": "code",
   "execution_count": null,
   "metadata": {},
   "outputs": [],
   "source": [
    "from ipywidgets import Image, Layout\n",
    "image_widget = Image(\n",
    "    value=pictures['pic_B075NJNLJT'],\n",
    "    layout=Layout(height='400px', width='400px')\n",
    ")\n",
    "image_widget"
   ]
  },
  {
   "cell_type": "code",
   "execution_count": null,
   "metadata": {},
   "outputs": [],
   "source": [
    "def hover_fn(trace, points, state):\n",
    "\n",
    "    ind = points.point_inds[0]\n",
    "    \n",
    "    # Update details HTML widget\n",
    "    details.value = norm.iloc[ind].to_frame().to_html()\n",
    "    \n",
    "    # Update image widget\n",
    "    model_year = 'pic_' + norm['asin'][ind]\n",
    "    image_widget.value = m[model_year]\n",
    "\n",
    "scatter.on_hover(hover_fn)"
   ]
  },
  {
   "cell_type": "code",
   "execution_count": null,
   "metadata": {},
   "outputs": [],
   "source": [
    "from ipywidgets import HBox, VBox\n",
    "VBox([fig,\n",
    "      HBox([image_widget, details])])"
   ]
  },
  {
   "cell_type": "code",
   "execution_count": null,
   "metadata": {},
   "outputs": [],
   "source": []
  },
  {
   "cell_type": "code",
   "execution_count": null,
   "metadata": {},
   "outputs": [],
   "source": [
    "# that would be one picture\n",
    "pic = list(r.smembers('pic_B01F2RLCJ8'))[0]\n",
    "#r.delete('pic_B01J670I36')\n",
    "# lets use the list of pictures, you can change the index to play around\n",
    "Image(value=m[49])"
   ]
  },
  {
   "cell_type": "code",
   "execution_count": null,
   "metadata": {},
   "outputs": [],
   "source": [
    "def download_image(asin):\n",
    "    country = 'de'\n",
    "    site = requests.get(f'https://amazon.{country}/dp/{asin}')\n",
    "    parser = html.fromstring(site.text)\n",
    "    IMG = \"//img[@id='landingImage']\"\n",
    "    image_link = parser.xpath(IMG)[0].get('src')\n",
    "    image = requests.get(image_link).content\n",
    "    assert isinstance(image, bytes)\n",
    "    return image\n",
    "    \n",
    "def dump_into_redis(image):\n",
    "    r.sadd(f'pic_{asin}', image)"
   ]
  },
  {
   "cell_type": "code",
   "execution_count": null,
   "metadata": {},
   "outputs": [],
   "source": [
    "for asin in r.scan_iter():\n",
    "    if asin != 'updated_asins' and not asin.startswith('pic'):\n",
    "        if not r.exists('pic_'+asin):\n",
    "            print(asin)\n",
    "            time.sleep(randint(2,4))\n",
    "            try:\n",
    "                dump_into_redis(download_image(asin))\n",
    "            except:\n",
    "                time.sleep(randint(5, 6))"
   ]
  },
  {
   "cell_type": "code",
   "execution_count": null,
   "metadata": {},
   "outputs": [],
   "source": []
  }
 ],
 "metadata": {
  "kernelspec": {
   "display_name": "Python 3",
   "language": "python",
   "name": "python3"
  },
  "language_info": {
   "codemirror_mode": {
    "name": "ipython",
    "version": 3
   },
   "file_extension": ".py",
   "mimetype": "text/x-python",
   "name": "python",
   "nbconvert_exporter": "python",
   "pygments_lexer": "ipython3",
   "version": "3.6.7"
  }
 },
 "nbformat": 4,
 "nbformat_minor": 2
}
