{
 "cells": [
  {
   "cell_type": "markdown",
   "metadata": {},
   "source": [
    "# Views are different perspectives of our data\n",
    "That would be a way to get a better understanding of the data.  \n",
    "If you have an idea for a view, share it or make an issue."
   ]
  },
  {
   "cell_type": "code",
   "execution_count": null,
   "metadata": {},
   "outputs": [],
   "source": [
    "import altair as alt\n",
    "import numpy as np\n",
    "import pandas as pd\n",
    "\n",
    "from mlrepricer import match, setup, helper, schemas\n",
    "from mlrepricer.minmax import dump_csv\n",
    "from mlrepricer.database import SQLite\n",
    "alt.data_transformers.enable('default', max_rows=1000000)"
   ]
  },
  {
   "cell_type": "code",
   "execution_count": null,
   "metadata": {},
   "outputs": [],
   "source": [
    "t = schemas.pricemonitor(SQLite)()  # tableobject\n",
    "df = pd.read_sql_query(f'SELECT * FROM {t.table}', t.conn, parse_dates=[t.eventdate], index_col='ID')"
   ]
  },
  {
   "cell_type": "markdown",
   "metadata": {},
   "source": [
    "### Filter1 aka features we probably should not track in the first place.\n",
    "for me it drops like 4% of the data"
   ]
  },
  {
   "cell_type": "code",
   "execution_count": null,
   "metadata": {},
   "outputs": [],
   "source": [
    "# this is available in mlrepricer.helper.cleanup()\n",
    "filter1 = df[(df.instock==1)&(df.isfeaturedmerchant==1)]\n",
    "filter1 = filter1.drop(['instock', 'isfeaturedmerchant'], axis=1)\n",
    "# those offers suck too\n",
    "filter1 = filter1[(filter1.shipping_maxhours+filter1.shipping_minhours)<=72]"
   ]
  },
  {
   "cell_type": "markdown",
   "metadata": {},
   "source": [
    "We look at each attribute separetely now.  \n",
    "Basically it's ok to drop both features.  \n",
    "The instock attribute has some winners, but it's to unlikely.  \n",
    "It's like 1/300 of the dataset got that feature."
   ]
  },
  {
   "cell_type": "code",
   "execution_count": null,
   "metadata": {},
   "outputs": [],
   "source": [
    "drop2 = df[df.isfeaturedmerchant==0]  # it has a zero chance to be a winner\n",
    "print(f'We can drop {len(drop2)} rows and loose {len(drop2[drop2.isbuyboxwinner==1])} winners, we expected this to be Zero')"
   ]
  },
  {
   "cell_type": "code",
   "execution_count": null,
   "metadata": {},
   "outputs": [],
   "source": [
    "\n",
    "drop = df[df.instock==0]\n",
    "normalized_lostwinner = len(filter1[filter1.isbuyboxwinner==1])/len(filter1)/(len(drop[drop.isbuyboxwinner==1])/len(drop))\n",
    "print(f'Its {normalized_lostwinner:.2f} times less likely to find a buyboxwinner in the data set we drop here, we have {len(drop)} datarows.')\n",
    "if normalized_lostwinner < 5:\n",
    "    raise ValueError"
   ]
  },
  {
   "cell_type": "markdown",
   "metadata": {},
   "source": [
    "# The stuff below is not wrong, but it makes only little sense to look at the data this way.\n",
    "Better just look on a per message level. Because one message has all the information for a state."
   ]
  },
  {
   "cell_type": "markdown",
   "metadata": {},
   "source": [
    "## What is the name for the type of feed data we get?\n",
    "It's like time series data, but tracking only changes.\n",
    "I think without reducing the complexity we can imagine it in 5 dimensions.\n",
    " - asin\n",
    " - time_changed  \n",
    "   competitor = groupby(['sellerid', 'isprime']).min()  # min because maybe some have duplicates offers  \n",
    "     those are two seperate dimensions:\n",
    "     - sellerid\n",
    "     - isprime\n",
    " - features\n",
    " \n",
    "does this make sense?"
   ]
  },
  {
   "cell_type": "markdown",
   "metadata": {},
   "source": [
    "Knowing this we can make a pivot table. Let's refer to it as groundtruth."
   ]
  },
  {
   "cell_type": "code",
   "execution_count": null,
   "metadata": {},
   "outputs": [],
   "source": [
    "filter1.groupby(['asin', 'sellerid', 'isprime', 'time_changed']).min().head(10)"
   ]
  },
  {
   "cell_type": "markdown",
   "metadata": {},
   "source": [
    "What can we improve from here?\n",
    " - only track stable states, like those hold for more than 5 minutes\n",
    " - linear transform isprime to remove a dimension  \n",
    "More ideas are welcome on github."
   ]
  },
  {
   "cell_type": "code",
   "execution_count": null,
   "metadata": {},
   "outputs": [],
   "source": []
  }
 ],
 "metadata": {
  "kernelspec": {
   "display_name": "Python 3",
   "language": "python",
   "name": "python3"
  },
  "language_info": {
   "codemirror_mode": {
    "name": "ipython",
    "version": 3
   },
   "file_extension": ".py",
   "mimetype": "text/x-python",
   "name": "python",
   "nbconvert_exporter": "python",
   "pygments_lexer": "ipython3",
   "version": "3.6.5"
  }
 },
 "nbformat": 4,
 "nbformat_minor": 2
}
