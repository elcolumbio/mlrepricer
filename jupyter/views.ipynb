{
 "cells": [
  {
   "cell_type": "markdown",
   "metadata": {},
   "source": [
    "# Views are different perspectives of our data\n",
    "That would be a way to get a better understanding of the data.  \n",
    "If you have an idea for a view, share it or make an issue."
   ]
  },
  {
   "cell_type": "code",
   "execution_count": 1,
   "metadata": {},
   "outputs": [
    {
     "data": {
      "text/plain": [
       "DataTransformerRegistry.enable('default')"
      ]
     },
     "execution_count": 1,
     "metadata": {},
     "output_type": "execute_result"
    }
   ],
   "source": [
    "import altair as alt\n",
    "import numpy as np\n",
    "import pandas as pd\n",
    "\n",
    "from mlrepricer import match, setup, helper, schemas\n",
    "from mlrepricer.minmax import dump_csv\n",
    "from mlrepricer.database import SQLite\n",
    "alt.data_transformers.enable('default', max_rows=1000000)"
   ]
  },
  {
   "cell_type": "code",
   "execution_count": 58,
   "metadata": {},
   "outputs": [],
   "source": [
    "t = schemas.pricemonitor(SQLite)()  # tableobject\n",
    "df = pd.read_sql_query(f'SELECT * FROM {t.table}', t.conn, parse_dates=[t.eventdate], index_col='ID')"
   ]
  },
  {
   "cell_type": "markdown",
   "metadata": {},
   "source": [
    "### Filter1 aka features we probably should not track in the first place.\n",
    "for me it drops like 4% of the data"
   ]
  },
  {
   "cell_type": "code",
   "execution_count": 61,
   "metadata": {},
   "outputs": [],
   "source": [
    "filter1 = df[(df.instock==1)&(df.isfeaturedmerchant==1)]\n",
    "filter1 = filter1.drop(['instock', 'isfeaturedmerchant'], axis=1)"
   ]
  },
  {
   "cell_type": "markdown",
   "metadata": {},
   "source": [
    "We look at each attribute separetely now.  \n",
    "Basically it's ok to drop both features.  \n",
    "The instock attribute has some winners, but it's to unlikely.  \n",
    "It's like 1/300 of the dataset got that feature."
   ]
  },
  {
   "cell_type": "code",
   "execution_count": 52,
   "metadata": {},
   "outputs": [
    {
     "name": "stdout",
     "output_type": "stream",
     "text": [
      "We can drop 10365 rows and loose 0 winners, we expected this to be Zero\n"
     ]
    }
   ],
   "source": [
    "drop2 = df[df.isfeaturedmerchant==0]  # it has a zero chance to be a winner\n",
    "print(f'We can drop {len(drop2)} rows and loose {len(drop2[drop2.isbuyboxwinner==1])} winners, we expected this to be Zero')"
   ]
  },
  {
   "cell_type": "code",
   "execution_count": 53,
   "metadata": {},
   "outputs": [
    {
     "name": "stdout",
     "output_type": "stream",
     "text": [
      "Its 6.19 times less likely to find a buyboxwinner in the data set we drop here, we have 1001 datarows.\n"
     ]
    }
   ],
   "source": [
    "\n",
    "drop = df[df.instock==0]\n",
    "normalized_lostwinner = len(filter1[filter1.isbuyboxwinner==1])/len(filter1)/(len(drop[drop.isbuyboxwinner==1])/len(drop))\n",
    "print(f'Its {normalized_lostwinner:.2f} times less likely to find a buyboxwinner in the data set we drop here, we have {len(drop)} datarows.')\n",
    "if normalized_lostwinner < 5:\n",
    "    raise ValueError"
   ]
  },
  {
   "cell_type": "markdown",
   "metadata": {},
   "source": [
    "## What is the name for the type of feed data we get?\n",
    "It's like time series data, but tracking only changes.\n",
    "I think without reducing the complexity we can imagine it in 5 dimensions.\n",
    " - asin\n",
    " - time_changed  \n",
    "   competitor = groupby(['sellerid', 'isprime']).min()  # min because maybe some have duplicates offers  \n",
    "     those are two seperate dimensions:\n",
    "     - sellerid\n",
    "     - isprime\n",
    " - features\n",
    " \n",
    "does this make sense?"
   ]
  },
  {
   "cell_type": "markdown",
   "metadata": {},
   "source": [
    "Knowing this we can make a pivot table. Let's refer to it as groundtruth."
   ]
  },
  {
   "cell_type": "code",
   "execution_count": 62,
   "metadata": {},
   "outputs": [
    {
     "data": {
      "text/html": [
       "<div>\n",
       "<style scoped>\n",
       "    .dataframe tbody tr th:only-of-type {\n",
       "        vertical-align: middle;\n",
       "    }\n",
       "\n",
       "    .dataframe tbody tr th {\n",
       "        vertical-align: top;\n",
       "    }\n",
       "\n",
       "    .dataframe thead th {\n",
       "        text-align: right;\n",
       "    }\n",
       "</style>\n",
       "<table border=\"1\" class=\"dataframe\">\n",
       "  <thead>\n",
       "    <tr style=\"text-align: right;\">\n",
       "      <th></th>\n",
       "      <th></th>\n",
       "      <th></th>\n",
       "      <th></th>\n",
       "      <th>feedback</th>\n",
       "      <th>feedbackpercent</th>\n",
       "      <th>isbuyboxwinner</th>\n",
       "      <th>price</th>\n",
       "      <th>shipping_maxhours</th>\n",
       "      <th>shipping_minhours</th>\n",
       "    </tr>\n",
       "    <tr>\n",
       "      <th>asin</th>\n",
       "      <th>sellerid</th>\n",
       "      <th>isprime</th>\n",
       "      <th>time_changed</th>\n",
       "      <th></th>\n",
       "      <th></th>\n",
       "      <th></th>\n",
       "      <th></th>\n",
       "      <th></th>\n",
       "      <th></th>\n",
       "    </tr>\n",
       "  </thead>\n",
       "  <tbody>\n",
       "    <tr>\n",
       "      <th rowspan=\"6\" valign=\"top\">B0126QIK2K</th>\n",
       "      <th rowspan=\"3\" valign=\"top\">A2EHWGAW6J9W8Q</th>\n",
       "      <th rowspan=\"3\" valign=\"top\">0</th>\n",
       "      <th>2018-05-22 07:33:12.314</th>\n",
       "      <td>1606</td>\n",
       "      <td>98</td>\n",
       "      <td>0</td>\n",
       "      <td>12.00</td>\n",
       "      <td>48</td>\n",
       "      <td>24</td>\n",
       "    </tr>\n",
       "    <tr>\n",
       "      <th>2018-05-22 07:42:09.934</th>\n",
       "      <td>1606</td>\n",
       "      <td>98</td>\n",
       "      <td>1</td>\n",
       "      <td>12.00</td>\n",
       "      <td>48</td>\n",
       "      <td>24</td>\n",
       "    </tr>\n",
       "    <tr>\n",
       "      <th>2018-05-22 09:38:58.802</th>\n",
       "      <td>1606</td>\n",
       "      <td>98</td>\n",
       "      <td>1</td>\n",
       "      <td>12.00</td>\n",
       "      <td>48</td>\n",
       "      <td>24</td>\n",
       "    </tr>\n",
       "    <tr>\n",
       "      <th rowspan=\"3\" valign=\"top\">AFEE1JGTCYXOG</th>\n",
       "      <th rowspan=\"3\" valign=\"top\">0</th>\n",
       "      <th>2018-05-22 07:33:12.314</th>\n",
       "      <td>2072</td>\n",
       "      <td>100</td>\n",
       "      <td>1</td>\n",
       "      <td>11.85</td>\n",
       "      <td>24</td>\n",
       "      <td>24</td>\n",
       "    </tr>\n",
       "    <tr>\n",
       "      <th>2018-05-22 07:42:09.934</th>\n",
       "      <td>2072</td>\n",
       "      <td>100</td>\n",
       "      <td>0</td>\n",
       "      <td>21.57</td>\n",
       "      <td>24</td>\n",
       "      <td>24</td>\n",
       "    </tr>\n",
       "    <tr>\n",
       "      <th>2018-05-22 09:38:58.802</th>\n",
       "      <td>2072</td>\n",
       "      <td>100</td>\n",
       "      <td>0</td>\n",
       "      <td>32.29</td>\n",
       "      <td>24</td>\n",
       "      <td>24</td>\n",
       "    </tr>\n",
       "    <tr>\n",
       "      <th rowspan=\"4\" valign=\"top\">B015NJUI5O</th>\n",
       "      <th rowspan=\"4\" valign=\"top\">A10GXGUDASI5WW</th>\n",
       "      <th rowspan=\"4\" valign=\"top\">1</th>\n",
       "      <th>2018-05-10 02:03:16.011</th>\n",
       "      <td>503</td>\n",
       "      <td>99</td>\n",
       "      <td>0</td>\n",
       "      <td>10.48</td>\n",
       "      <td>0</td>\n",
       "      <td>0</td>\n",
       "    </tr>\n",
       "    <tr>\n",
       "      <th>2018-05-10 06:03:58.780</th>\n",
       "      <td>503</td>\n",
       "      <td>99</td>\n",
       "      <td>1</td>\n",
       "      <td>10.48</td>\n",
       "      <td>0</td>\n",
       "      <td>0</td>\n",
       "    </tr>\n",
       "    <tr>\n",
       "      <th>2018-05-10 13:23:17.559</th>\n",
       "      <td>503</td>\n",
       "      <td>99</td>\n",
       "      <td>1</td>\n",
       "      <td>10.48</td>\n",
       "      <td>0</td>\n",
       "      <td>0</td>\n",
       "    </tr>\n",
       "    <tr>\n",
       "      <th>2018-05-10 20:30:04.405</th>\n",
       "      <td>504</td>\n",
       "      <td>99</td>\n",
       "      <td>0</td>\n",
       "      <td>12.99</td>\n",
       "      <td>0</td>\n",
       "      <td>0</td>\n",
       "    </tr>\n",
       "  </tbody>\n",
       "</table>\n",
       "</div>"
      ],
      "text/plain": [
       "                                                           feedback  \\\n",
       "asin       sellerid       isprime time_changed                        \n",
       "B0126QIK2K A2EHWGAW6J9W8Q 0       2018-05-22 07:33:12.314      1606   \n",
       "                                  2018-05-22 07:42:09.934      1606   \n",
       "                                  2018-05-22 09:38:58.802      1606   \n",
       "           AFEE1JGTCYXOG  0       2018-05-22 07:33:12.314      2072   \n",
       "                                  2018-05-22 07:42:09.934      2072   \n",
       "                                  2018-05-22 09:38:58.802      2072   \n",
       "B015NJUI5O A10GXGUDASI5WW 1       2018-05-10 02:03:16.011       503   \n",
       "                                  2018-05-10 06:03:58.780       503   \n",
       "                                  2018-05-10 13:23:17.559       503   \n",
       "                                  2018-05-10 20:30:04.405       504   \n",
       "\n",
       "                                                           feedbackpercent  \\\n",
       "asin       sellerid       isprime time_changed                               \n",
       "B0126QIK2K A2EHWGAW6J9W8Q 0       2018-05-22 07:33:12.314               98   \n",
       "                                  2018-05-22 07:42:09.934               98   \n",
       "                                  2018-05-22 09:38:58.802               98   \n",
       "           AFEE1JGTCYXOG  0       2018-05-22 07:33:12.314              100   \n",
       "                                  2018-05-22 07:42:09.934              100   \n",
       "                                  2018-05-22 09:38:58.802              100   \n",
       "B015NJUI5O A10GXGUDASI5WW 1       2018-05-10 02:03:16.011               99   \n",
       "                                  2018-05-10 06:03:58.780               99   \n",
       "                                  2018-05-10 13:23:17.559               99   \n",
       "                                  2018-05-10 20:30:04.405               99   \n",
       "\n",
       "                                                           isbuyboxwinner  \\\n",
       "asin       sellerid       isprime time_changed                              \n",
       "B0126QIK2K A2EHWGAW6J9W8Q 0       2018-05-22 07:33:12.314               0   \n",
       "                                  2018-05-22 07:42:09.934               1   \n",
       "                                  2018-05-22 09:38:58.802               1   \n",
       "           AFEE1JGTCYXOG  0       2018-05-22 07:33:12.314               1   \n",
       "                                  2018-05-22 07:42:09.934               0   \n",
       "                                  2018-05-22 09:38:58.802               0   \n",
       "B015NJUI5O A10GXGUDASI5WW 1       2018-05-10 02:03:16.011               0   \n",
       "                                  2018-05-10 06:03:58.780               1   \n",
       "                                  2018-05-10 13:23:17.559               1   \n",
       "                                  2018-05-10 20:30:04.405               0   \n",
       "\n",
       "                                                           price  \\\n",
       "asin       sellerid       isprime time_changed                     \n",
       "B0126QIK2K A2EHWGAW6J9W8Q 0       2018-05-22 07:33:12.314  12.00   \n",
       "                                  2018-05-22 07:42:09.934  12.00   \n",
       "                                  2018-05-22 09:38:58.802  12.00   \n",
       "           AFEE1JGTCYXOG  0       2018-05-22 07:33:12.314  11.85   \n",
       "                                  2018-05-22 07:42:09.934  21.57   \n",
       "                                  2018-05-22 09:38:58.802  32.29   \n",
       "B015NJUI5O A10GXGUDASI5WW 1       2018-05-10 02:03:16.011  10.48   \n",
       "                                  2018-05-10 06:03:58.780  10.48   \n",
       "                                  2018-05-10 13:23:17.559  10.48   \n",
       "                                  2018-05-10 20:30:04.405  12.99   \n",
       "\n",
       "                                                           shipping_maxhours  \\\n",
       "asin       sellerid       isprime time_changed                                 \n",
       "B0126QIK2K A2EHWGAW6J9W8Q 0       2018-05-22 07:33:12.314                 48   \n",
       "                                  2018-05-22 07:42:09.934                 48   \n",
       "                                  2018-05-22 09:38:58.802                 48   \n",
       "           AFEE1JGTCYXOG  0       2018-05-22 07:33:12.314                 24   \n",
       "                                  2018-05-22 07:42:09.934                 24   \n",
       "                                  2018-05-22 09:38:58.802                 24   \n",
       "B015NJUI5O A10GXGUDASI5WW 1       2018-05-10 02:03:16.011                  0   \n",
       "                                  2018-05-10 06:03:58.780                  0   \n",
       "                                  2018-05-10 13:23:17.559                  0   \n",
       "                                  2018-05-10 20:30:04.405                  0   \n",
       "\n",
       "                                                           shipping_minhours  \n",
       "asin       sellerid       isprime time_changed                                \n",
       "B0126QIK2K A2EHWGAW6J9W8Q 0       2018-05-22 07:33:12.314                 24  \n",
       "                                  2018-05-22 07:42:09.934                 24  \n",
       "                                  2018-05-22 09:38:58.802                 24  \n",
       "           AFEE1JGTCYXOG  0       2018-05-22 07:33:12.314                 24  \n",
       "                                  2018-05-22 07:42:09.934                 24  \n",
       "                                  2018-05-22 09:38:58.802                 24  \n",
       "B015NJUI5O A10GXGUDASI5WW 1       2018-05-10 02:03:16.011                  0  \n",
       "                                  2018-05-10 06:03:58.780                  0  \n",
       "                                  2018-05-10 13:23:17.559                  0  \n",
       "                                  2018-05-10 20:30:04.405                  0  "
      ]
     },
     "execution_count": 62,
     "metadata": {},
     "output_type": "execute_result"
    }
   ],
   "source": [
    "filter1.groupby(['asin', 'sellerid', 'isprime', 'time_changed']).min().head(10)"
   ]
  },
  {
   "cell_type": "markdown",
   "metadata": {},
   "source": [
    "What can we improve from here?\n",
    " - only track stable states, like those hold for more than 5 minutes\n",
    " - linear transform isprime to remove a dimension  \n",
    "More ideas are welcome on github."
   ]
  },
  {
   "cell_type": "code",
   "execution_count": null,
   "metadata": {},
   "outputs": [],
   "source": [
    "# "
   ]
  }
 ],
 "metadata": {
  "kernelspec": {
   "display_name": "Python 3",
   "language": "python",
   "name": "python3"
  },
  "language_info": {
   "codemirror_mode": {
    "name": "ipython",
    "version": 3
   },
   "file_extension": ".py",
   "mimetype": "text/x-python",
   "name": "python",
   "nbconvert_exporter": "python",
   "pygments_lexer": "ipython3",
   "version": "3.6.5"
  }
 },
 "nbformat": 4,
 "nbformat_minor": 2
}
