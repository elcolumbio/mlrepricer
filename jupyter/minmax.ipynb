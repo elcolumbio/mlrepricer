{
 "cells": [
  {
   "cell_type": "code",
   "execution_count": null,
   "metadata": {},
   "outputs": [],
   "source": [
    "from mlrepricer import match, setup, helper, schemas, minmax\n",
    "import altair as alt\n",
    "import numpy as np\n",
    "import pandas as pd\n",
    "import warnings\n",
    "import datetime as dt\n",
    "import matplotlib.pyplot as plt\n",
    "\n",
    "\n",
    "from mlrepricer.database import SQLite\n",
    "\n",
    "alt.data_transformers.enable('default', max_rows=100000000)"
   ]
  },
  {
   "cell_type": "code",
   "execution_count": 5,
   "metadata": {},
   "outputs": [],
   "source": [
    "t = schemas.pricemonitor(SQLite)()  # tableobject\n",
    "df = pd.read_sql_query(f'SELECT * FROM {t.table}', t.conn, parse_dates=[t.eventdate], index_col='ID')\n",
    "filter1 = helper.cleanup(df)\n",
    "main = helper.normalize(filter1)\n",
    "main = main.reset_index().set_index(['asin', 'sellerid'])\n",
    "main = pd.get_dummies(main)"
   ]
  },
  {
   "cell_type": "code",
   "execution_count": 6,
   "metadata": {},
   "outputs": [],
   "source": [
    "# unrelated fast try out of maxmin helper columns\n",
    "minmaxdf = pd.DataFrame()\n",
    "minmaxdf['mean'] = main[main.isbuyboxwinner==1].groupby(['asin', 'shipping_time_0'])['price'].mean().round(2)\n",
    "minmaxdf['min'] = main[main.isbuyboxwinner==1].groupby(['asin', 'shipping_time_0'])['price'].min().round(2)\n",
    "minmaxdf['max'] = main[main.isbuyboxwinner==1].groupby(['asin', 'shipping_time_0'])['price'].max().round(2)"
   ]
  },
  {
   "cell_type": "code",
   "execution_count": 7,
   "metadata": {},
   "outputs": [],
   "source": [
    "minmaxdf = minmaxdf.reset_index()\n",
    "minmaxdf.asin = minmaxdf.asin + np.where(minmaxdf.shipping_time_0 == 0, '_seller', '_prime')\n",
    "del minmaxdf['shipping_time_0']"
   ]
  },
  {
   "cell_type": "code",
   "execution_count": null,
   "metadata": {},
   "outputs": [],
   "source": []
  },
  {
   "cell_type": "code",
   "execution_count": 15,
   "metadata": {},
   "outputs": [],
   "source": [
    "old = minmax.load_csv()\n",
    "old = old.reset_index()\n",
    "old.asin = old.asin + np.where(old.isprime == 0, '_seller', '_prime')\n",
    "del old['isprime']"
   ]
  },
  {
   "cell_type": "code",
   "execution_count": 20,
   "metadata": {},
   "outputs": [],
   "source": [
    "result = pd.merge(minmaxdf, old, how='inner', on='asin')\n",
    "result.drop(['index', 'maxPrice', 'minPrice'], axis=1).to_csv('minmax.csv')"
   ]
  },
  {
   "cell_type": "code",
   "execution_count": null,
   "metadata": {},
   "outputs": [],
   "source": []
  }
 ],
 "metadata": {
  "kernelspec": {
   "display_name": "Python 3",
   "language": "python",
   "name": "python3"
  },
  "language_info": {
   "codemirror_mode": {
    "name": "ipython",
    "version": 3
   },
   "file_extension": ".py",
   "mimetype": "text/x-python",
   "name": "python",
   "nbconvert_exporter": "python",
   "pygments_lexer": "ipython3",
   "version": "3.6.5"
  }
 },
 "nbformat": 4,
 "nbformat_minor": 2
}
