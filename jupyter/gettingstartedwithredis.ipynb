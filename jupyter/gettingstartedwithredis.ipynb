{
 "cells": [
  {
   "cell_type": "code",
   "execution_count": null,
   "metadata": {},
   "outputs": [],
   "source": [
    "import redis\n",
    "from mlrepricer import redisdb, helper, parser, setup, updateprice\n",
    "import xmltodict"
   ]
  },
  {
   "cell_type": "code",
   "execution_count": null,
   "metadata": {},
   "outputs": [],
   "source": [
    "helper.rediscred"
   ]
  },
  {
   "cell_type": "code",
   "execution_count": null,
   "metadata": {},
   "outputs": [],
   "source": [
    "r = redis.StrictRedis(**helper.rediscred, decode_responses=True)\n",
    "#redisdb.server_start()"
   ]
  },
  {
   "cell_type": "code",
   "execution_count": null,
   "metadata": {},
   "outputs": [],
   "source": [
    "asin_gen = r.scan_iter(match=r'[a-zA-Z0-9]'*10)"
   ]
  },
  {
   "cell_type": "code",
   "execution_count": null,
   "metadata": {},
   "outputs": [],
   "source": [
    "asin = next(asin_gen)\n",
    "print(asin)"
   ]
  },
  {
   "cell_type": "code",
   "execution_count": null,
   "metadata": {},
   "outputs": [],
   "source": [
    "m = r.zrevrangebyscore(asin, 'inf', '-inf', start=0, num=1,\n",
    "                           withscores=True)\n",
    "x = parser.parse(eval(m[0][0]))"
   ]
  },
  {
   "cell_type": "code",
   "execution_count": null,
   "metadata": {},
   "outputs": [],
   "source": [
    "message_df = x"
   ]
  },
  {
   "cell_type": "code",
   "execution_count": null,
   "metadata": {},
   "outputs": [],
   "source": [
    "r.keys()"
   ]
  },
  {
   "cell_type": "code",
   "execution_count": 12,
   "metadata": {},
   "outputs": [],
   "source": [
    "asin = 'action_B06XCLSTK1_geekvape_fused_clapton_2_1'"
   ]
  },
  {
   "cell_type": "code",
   "execution_count": null,
   "metadata": {},
   "outputs": [],
   "source": [
    "r.srem('updated_asins', '0')"
   ]
  },
  {
   "cell_type": "code",
   "execution_count": 13,
   "metadata": {},
   "outputs": [
    {
     "data": {
      "text/plain": [
       "[('6.98_2019-01-07T17:39:02.337000', 1546961522.735094)]"
      ]
     },
     "execution_count": 13,
     "metadata": {},
     "output_type": "execute_result"
    }
   ],
   "source": [
    "r.zrevrangebyscore(asin, 'inf', '-inf', start=0, num=1,\n",
    "                                 withscores=True)"
   ]
  },
  {
   "cell_type": "code",
   "execution_count": 10,
   "metadata": {},
   "outputs": [
    {
     "data": {
      "text/plain": [
       "set()"
      ]
     },
     "execution_count": 10,
     "metadata": {},
     "output_type": "execute_result"
    }
   ],
   "source": [
    "asin = 'B07JP77QGD'\n",
    "r.smembers('updated_asins')"
   ]
  },
  {
   "cell_type": "code",
   "execution_count": null,
   "metadata": {},
   "outputs": [],
   "source": [
    "for x in message_df.iterrows():\n",
    "    print(x[0])\n",
    "    x = x[1]\n",
    "    if (x['isbuyboxwinner']):\n",
    "        print('happy')\n",
    "    elif x['isbuyboxwinner'] & x['isprime']:\n",
    "        prime_winner.append(x)\n",
    "    elif x['isbuyboxwinner'] & ~x['isprime']:\n",
    "        nonprime_winner.append(x)"
   ]
  },
  {
   "cell_type": "code",
   "execution_count": null,
   "metadata": {},
   "outputs": [],
   "source": [
    "nonprime_winner"
   ]
  },
  {
   "cell_type": "code",
   "execution_count": null,
   "metadata": {},
   "outputs": [],
   "source": [
    "# example get value by key for \n",
    "# type: specified members with the specified scores to the sorted set stored at key\n",
    "m = r.zscan(next(m))"
   ]
  },
  {
   "cell_type": "code",
   "execution_count": null,
   "metadata": {},
   "outputs": [],
   "source": [
    "# m1 is where all messages are, the next 0 is where the latest message is stored (highest timestamp value)\n",
    "# the next 0 is getting the stored data a string which is the message how we get it from the aws queue\n",
    "x = m[1][0][0]\n",
    "xmltodict.parse(eval(x)[0]['Body'])\n",
    "#eval(x)[0]['ReceiptHandle']"
   ]
  },
  {
   "cell_type": "markdown",
   "metadata": {},
   "source": [
    "Example iterate over all keys"
   ]
  },
  {
   "cell_type": "code",
   "execution_count": null,
   "metadata": {},
   "outputs": [],
   "source": [
    "def asin_generator():\n",
    "    \"\"\"\n",
    "    Match keys which contain all messages per asin.\n",
    "    Key example: B07B9NGM2J\n",
    "    Return a generator of keys you can use to get the actual messages.\n",
    "    \"\"\"\n",
    "    return r.scan_iter(match=r'[a-zA-Z0-9]'*10)"
   ]
  },
  {
   "cell_type": "code",
   "execution_count": null,
   "metadata": {},
   "outputs": [],
   "source": [
    "def actionable_asins():\n",
    "    \"\"\"\n",
    "    Get asin we have to take actions.\n",
    "    one key: updated_asins\n",
    "    \"\"\"\n",
    "    return r.sscan_iter('updated_asins')"
   ]
  },
  {
   "cell_type": "code",
   "execution_count": null,
   "metadata": {},
   "outputs": [],
   "source": [
    "def parsed_messages(asin):\n",
    "    \"\"\"Make a list with all messages parsed.\"\"\"\n",
    "    mlist = r.zrevrangebyscore(asin, 'inf', '-inf')\n",
    "    return [parser.parse(eval(message)) for message in mlist]"
   ]
  },
  {
   "cell_type": "code",
   "execution_count": null,
   "metadata": {},
   "outputs": [],
   "source": [
    "#[x for x in message_key()]"
   ]
  },
  {
   "cell_type": "code",
   "execution_count": null,
   "metadata": {},
   "outputs": [],
   "source": [
    "result = []\n",
    "asin_gen = asin_generator()\n",
    "for asin in asin_gen:\n",
    "    result.append(parsed_messages(asin))"
   ]
  },
  {
   "cell_type": "code",
   "execution_count": null,
   "metadata": {},
   "outputs": [],
   "source": [
    "result[33][1]"
   ]
  },
  {
   "cell_type": "code",
   "execution_count": null,
   "metadata": {},
   "outputs": [],
   "source": [
    "updateprice.get_latest_message(asin)"
   ]
  },
  {
   "cell_type": "code",
   "execution_count": null,
   "metadata": {},
   "outputs": [],
   "source": []
  },
  {
   "cell_type": "code",
   "execution_count": null,
   "metadata": {},
   "outputs": [],
   "source": []
  },
  {
   "cell_type": "code",
   "execution_count": null,
   "metadata": {},
   "outputs": [],
   "source": []
  }
 ],
 "metadata": {
  "kernelspec": {
   "display_name": "Python 3",
   "language": "python",
   "name": "python3"
  },
  "language_info": {
   "codemirror_mode": {
    "name": "ipython",
    "version": 3
   },
   "file_extension": ".py",
   "mimetype": "text/x-python",
   "name": "python",
   "nbconvert_exporter": "python",
   "pygments_lexer": "ipython3",
   "version": "3.6.7"
  }
 },
 "nbformat": 4,
 "nbformat_minor": 2
}
