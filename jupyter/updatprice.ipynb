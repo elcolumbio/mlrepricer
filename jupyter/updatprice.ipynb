{
 "cells": [
  {
   "cell_type": "code",
   "execution_count": null,
   "metadata": {},
   "outputs": [],
   "source": [
    "from mlrepricer import match, setup, helper\n",
    "import altair as alt\n",
    "import numpy as np\n",
    "alt.data_transformers.enable('default', max_rows=1000000)"
   ]
  },
  {
   "cell_type": "code",
   "execution_count": null,
   "metadata": {},
   "outputs": [],
   "source": [
    "matchthread = match.Mapping()"
   ]
  },
  {
   "cell_type": "code",
   "execution_count": null,
   "metadata": {},
   "outputs": [],
   "source": [
    "matchthread.start()"
   ]
  },
  {
   "cell_type": "code",
   "execution_count": null,
   "metadata": {},
   "outputs": [],
   "source": [
    "matchthread.is_alive()"
   ]
  },
  {
   "cell_type": "code",
   "execution_count": null,
   "metadata": {},
   "outputs": [],
   "source": [
    "df = helper.load_dataframe('mapping')"
   ]
  },
  {
   "cell_type": "code",
   "execution_count": null,
   "metadata": {},
   "outputs": [],
   "source": [
    "cnx = sqlite3.connect(f\"{setup.configs['datafolder']}listenerdb.sqlite\")\n",
    "df = pd.read_sql_query(\"SELECT * FROM price_monitor\", cnx)\n",
    "\n",
    "prime = df[(df.asin=='B01H0GZ2M2') & (df.isbuyboxwinner==1) & (df.isprime==1)]\n",
    "notprime = df[(df.asin=='B01H0GZ2M2') & (df.isbuyboxwinner==1) & (df.isprime==0)]"
   ]
  },
  {
   "cell_type": "code",
   "execution_count": null,
   "metadata": {},
   "outputs": [],
   "source": [
    "df = helper.load_dataframe('alldata')\n",
    "df = df[(df.asin=='B01H0GZ2M2') & (df.isbuyboxwinner==1)]"
   ]
  },
  {
   "cell_type": "code",
   "execution_count": null,
   "metadata": {},
   "outputs": [],
   "source": []
  },
  {
   "cell_type": "code",
   "execution_count": null,
   "metadata": {},
   "outputs": [],
   "source": [
    "df = df.groupby(['time_changed', 'asin', 'isprime']).mean().reset_index()\n",
    "m = df.loc[80: 95,]"
   ]
  },
  {
   "cell_type": "code",
   "execution_count": null,
   "metadata": {},
   "outputs": [],
   "source": [
    "prime = prime.groupby(['time_changed', 'asin']).mean().reset_index().set_index('time_changed').sort_index().asfreq('24H', method='ffill').reset_index()\n",
    "notprime = notprime.groupby(['time_changed', 'asin']).mean().reset_index().set_index('time_changed').sort_index().asfreq('30MIN').reset_index()"
   ]
  },
  {
   "cell_type": "code",
   "execution_count": null,
   "metadata": {},
   "outputs": [],
   "source": [
    "notprime.head()"
   ]
  },
  {
   "cell_type": "code",
   "execution_count": null,
   "metadata": {},
   "outputs": [],
   "source": [
    "alt.Chart(m).mark_rect().encode(\n",
    "    x=alt.X('time_changed:T', bin=True),\n",
    "    y=alt.Y('isprime:N'),\n",
    "    color='isprime:N')"
   ]
  },
  {
   "cell_type": "code",
   "execution_count": null,
   "metadata": {},
   "outputs": [],
   "source": [
    "square = alt.Chart(df).mark_square().encode(\n",
    "    x=alt.X('time_changed:T', bin=True),\n",
    "    y=alt.Y('price:Q', scale=alt.Scale(zero=False)),\n",
    "    color='isprime:N',\n",
    "    opacity=alt.value(1))\n",
    "\n",
    "text = square.mark_text(\n",
    "    align='left',\n",
    "    baseline='middle',\n",
    "    dx=3\n",
    ").encode(\n",
    "    text=('price').format())\n",
    "square.interactive()"
   ]
  },
  {
   "cell_type": "code",
   "execution_count": null,
   "metadata": {},
   "outputs": [],
   "source": [
    "alt.Chart(m).mark_line().encode(\n",
    "    x='time_changed:T',\n",
    "    y='price').interactive()"
   ]
  },
  {
   "cell_type": "code",
   "execution_count": null,
   "metadata": {},
   "outputs": [],
   "source": [
    "# -*- coding: utf-8 -*-\n",
    "import pandas as pd\n",
    "\n",
    "datafolder = setup.configs['datafolder']\n",
    "filename = 'minmax.csv'\n",
    "\n",
    "def buildcsv():\n",
    "    df = pd.read_msgpack(datafolder+'nocollusion')\n",
    "\n",
    "def load_csv():\n",
    "    pd.read_csv(datafolder+filename)\n",
    "\n",
    "\n",
    "def dump_csv(df, decimal='.'):\n",
    "    df.to_csv(datafolder+filename, decimal='.')"
   ]
  },
  {
   "cell_type": "code",
   "execution_count": null,
   "metadata": {},
   "outputs": [],
   "source": [
    "buildcsv()"
   ]
  },
  {
   "cell_type": "code",
   "execution_count": null,
   "metadata": {},
   "outputs": [],
   "source": [
    "df = pd.read_msgpack(datafolder+'mapping')"
   ]
  },
  {
   "cell_type": "code",
   "execution_count": null,
   "metadata": {},
   "outputs": [],
   "source": [
    "df['min_price'] = None"
   ]
  },
  {
   "cell_type": "code",
   "execution_count": null,
   "metadata": {},
   "outputs": [],
   "source": [
    "df['max_price'] = None"
   ]
  },
  {
   "cell_type": "code",
   "execution_count": null,
   "metadata": {},
   "outputs": [],
   "source": [
    "df.drop(['fulfillment-channel', 'count'], axis=1, inplace=True)"
   ]
  }
 ],
 "metadata": {
  "kernelspec": {
   "display_name": "Python 3",
   "language": "python",
   "name": "python3"
  },
  "language_info": {
   "codemirror_mode": {
    "name": "ipython",
    "version": 3
   },
   "file_extension": ".py",
   "mimetype": "text/x-python",
   "name": "python",
   "nbconvert_exporter": "python",
   "pygments_lexer": "ipython3",
   "version": "3.6.5"
  }
 },
 "nbformat": 4,
 "nbformat_minor": 2
}
