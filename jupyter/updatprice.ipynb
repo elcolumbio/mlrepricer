{
 "cells": [
  {
   "cell_type": "code",
   "execution_count": 4,
   "metadata": {},
   "outputs": [
    {
     "data": {
      "text/plain": [
       "DataTransformerRegistry.enable('default')"
      ]
     },
     "execution_count": 4,
     "metadata": {},
     "output_type": "execute_result"
    }
   ],
   "source": [
    "import altair as alt\n",
    "import numpy as np\n",
    "import pandas as pd\n",
    "\n",
    "from mlrepricer import match, setup, helper, schemas\n",
    "from mlrepricer.minmax import dump_csv\n",
    "from mlrepricer.database import SQLite\n",
    "alt.data_transformers.enable('default', max_rows=1000000)"
   ]
  },
  {
   "cell_type": "code",
   "execution_count": 1,
   "metadata": {},
   "outputs": [],
   "source": [
    "dump_csv()"
   ]
  },
  {
   "cell_type": "code",
   "execution_count": 15,
   "metadata": {},
   "outputs": [],
   "source": [
    "t = schemas.pricemonitor(SQLite)()  # tableobject\n",
    "df = pd.read_sql_query(f'SELECT * FROM {t.table}',\n",
    "                       t.conn, parse_dates=[t.eventdate],\n",
    "                       index_col='ID')\n",
    "\n",
    "prime = df[(df.asin=='B01H0GZ2M2') & (df.isbuyboxwinner==1) & (df.isprime==1)]\n",
    "notprime = df[(df.asin=='B01H0GZ2M2') & (df.isbuyboxwinner==1) & (df.isprime==0)]"
   ]
  },
  {
   "cell_type": "code",
   "execution_count": null,
   "metadata": {},
   "outputs": [],
   "source": []
  },
  {
   "cell_type": "code",
   "execution_count": 16,
   "metadata": {},
   "outputs": [],
   "source": [
    "prime = prime.groupby(['time_changed', 'asin']).mean().reset_index('asin').sort_index().asfreq('24H', method='ffill').reset_index()\n",
    "notprime = notprime.groupby(['time_changed', 'asin']).mean().reset_index('asin').sort_index().asfreq('30MIN').reset_index()"
   ]
  },
  {
   "cell_type": "code",
   "execution_count": 18,
   "metadata": {},
   "outputs": [
    {
     "data": {
      "text/plain": [
       "RangeIndex(start=0, stop=40, step=1)"
      ]
     },
     "execution_count": 18,
     "metadata": {},
     "output_type": "execute_result"
    }
   ],
   "source": [
    "prime"
   ]
  },
  {
   "cell_type": "code",
   "execution_count": null,
   "metadata": {},
   "outputs": [],
   "source": [
    "alt.Chart(m).mark_rect().encode(\n",
    "    x=alt.X('time_changed:T', bin=True),\n",
    "    y=alt.Y('isprime:N'),\n",
    "    color='isprime:N')"
   ]
  },
  {
   "cell_type": "code",
   "execution_count": null,
   "metadata": {},
   "outputs": [],
   "source": [
    "square = alt.Chart(df).mark_square().encode(\n",
    "    x=alt.X('time_changed:T', bin=True),\n",
    "    y=alt.Y('price:Q', scale=alt.Scale(zero=False)),\n",
    "    color='isprime:N',\n",
    "    opacity=alt.value(1))\n",
    "\n",
    "text = square.mark_text(\n",
    "    align='left',\n",
    "    baseline='middle',\n",
    "    dx=3\n",
    ").encode(\n",
    "    text=('price').format())\n",
    "square.interactive()"
   ]
  },
  {
   "cell_type": "code",
   "execution_count": null,
   "metadata": {},
   "outputs": [],
   "source": [
    "alt.Chart(m).mark_line().encode(\n",
    "    x='time_changed:T',\n",
    "    y='price').interactive()"
   ]
  },
  {
   "cell_type": "code",
   "execution_count": null,
   "metadata": {},
   "outputs": [],
   "source": [
    "df.drop(['fulfillment-channel', 'count'], axis=1, inplace=True)"
   ]
  }
 ],
 "metadata": {
  "kernelspec": {
   "display_name": "Python 3",
   "language": "python",
   "name": "python3"
  },
  "language_info": {
   "codemirror_mode": {
    "name": "ipython",
    "version": 3
   },
   "file_extension": ".py",
   "mimetype": "text/x-python",
   "name": "python",
   "nbconvert_exporter": "python",
   "pygments_lexer": "ipython3",
   "version": "3.6.5"
  }
 },
 "nbformat": 4,
 "nbformat_minor": 2
}
